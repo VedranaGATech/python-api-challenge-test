<<<<<<< HEAD
{
 "cells": [
  {
   "cell_type": "markdown",
   "metadata": {},
   "source": [
    "# WeatherPy\n",
    "----\n",
    "\n",
    "#### Note\n",
    "* Instructions have been included for each segment. You do not have to follow them exactly, but they are included to help you think through the steps."
   ]
  },
  {
   "cell_type": "code",
   "execution_count": 1,
   "metadata": {},
   "outputs": [],
   "source": [
    "#pip install citipy\n",
    "#pip install ratelimit"
   ]
  },
  {
   "cell_type": "code",
   "execution_count": 2,
   "metadata": {
    "scrolled": true
   },
   "outputs": [],
   "source": [
    "# Dependencies and Setup\n",
    "import matplotlib.pyplot as plt\n",
    "import pandas as pd\n",
    "import numpy as np\n",
    "import requests\n",
    "import time\n",
    "from scipy.stats import linregress\n",
    "from pprint import pprint \n",
    "from ratelimit import limits\n",
    "\n",
    "# Import API key\n",
    "from api_keys import weather_api_key\n",
    "\n",
    "# Incorporated citipy to determine city based on latitude and longitude\n",
    "from citipy import citipy\n",
    "\n",
    "# Output File (CSV)\n",
    "output_data_file = \"output_data/cities.csv\"\n",
    "\n",
    "# Range of latitudes and longitudes\n",
    "lat_range = (-90, 90)\n",
    "lng_range = (-180, 180)"
   ]
  },
  {
   "cell_type": "markdown",
   "metadata": {},
   "source": [
    "## Generate Cities List"
   ]
  },
  {
   "cell_type": "code",
   "execution_count": 3,
   "metadata": {},
   "outputs": [
    {
     "data": {
      "text/plain": [
       "571"
      ]
     },
     "execution_count": 3,
     "metadata": {},
     "output_type": "execute_result"
    }
   ],
   "source": [
    "# List for holding lat_lngs and cities\n",
    "lat_lngs = []\n",
    "cities = []\n",
    "\n",
    "# Create a set of random lat and lng combinations\n",
    "lats = np.random.uniform(lat_range[0], lat_range[1], size=1500)\n",
    "lngs = np.random.uniform(lng_range[0], lng_range[1], size=1500)\n",
    "lat_lngs = zip(lats, lngs)\n",
    "\n",
    "# Identify nearest city for each lat, lng combination\n",
    "for lat_lng in lat_lngs:\n",
    "    city = citipy.nearest_city(lat_lng[0], lat_lng[1]).city_name\n",
    "    \n",
    "    # If the city is unique, then add it to a our cities list\n",
    "    if city not in cities:\n",
    "        cities.append(city)\n",
    "\n",
    "# Print the city count to confirm sufficient count\n",
    "len(cities)"
   ]
  },
  {
   "cell_type": "markdown",
   "metadata": {},
   "source": [
    "### Perform API Calls\n",
    "* Perform a weather check on each city using a series of successive API calls.\n",
    "* Include a print log of each city as it'sbeing processed (with the city number and city name).\n"
   ]
  },
  {
   "cell_type": "code",
   "execution_count": 4,
   "metadata": {},
   "outputs": [
    {
     "name": "stdout",
     "output_type": "stream",
     "text": [
      "{'base': 'stations',\n",
      " 'clouds': {'all': 12},\n",
      " 'cod': 200,\n",
      " 'coord': {'lat': 33.0334, 'lon': -115.4175},\n",
      " 'dt': 1658977841,\n",
      " 'id': 5359067,\n",
      " 'main': {'feels_like': 97.74,\n",
      "          'grnd_level': 1010,\n",
      "          'humidity': 25,\n",
      "          'pressure': 1006,\n",
      "          'sea_level': 1006,\n",
      "          'temp': 98.71,\n",
      "          'temp_max': 98.98,\n",
      "          'temp_min': 97.45},\n",
      " 'name': 'Imperial',\n",
      " 'sys': {'country': 'US',\n",
      "         'id': 2020898,\n",
      "         'sunrise': 1658926292,\n",
      "         'sunset': 1658976274,\n",
      "         'type': 2},\n",
      " 'timezone': -25200,\n",
      " 'visibility': 10000,\n",
      " 'weather': [{'description': 'few clouds',\n",
      "              'icon': '02n',\n",
      "              'id': 801,\n",
      "              'main': 'Clouds'}],\n",
      " 'wind': {'deg': 153, 'gust': 19.91, 'speed': 13.35}}\n"
     ]
    }
   ],
   "source": [
    "#create url for query \n",
    "\n",
    "url = \"http://api.openweathermap.org/data/2.5/weather?\"\n",
    "units = \"imperial\"\n",
    "query_url = f\"{url}&appid={weather_api_key}&units={units}&q=\"\n",
    "city_count = len(cities)\n",
    "\n",
    "response = requests.get(query_url + units).json()\n",
    "pprint(response)"
   ]
  },
  {
   "cell_type": "code",
   "execution_count": 5,
   "metadata": {},
   "outputs": [
    {
     "name": "stdout",
     "output_type": "stream",
     "text": [
      "Beginning Data Retrieval\n",
      "-----------------------\n",
      "Processing Record 1 of Set 1 | gurupi\n",
      "Processing Record 2 of Set 1 | sinop\n",
      "Processing Record 3 of Set 1 | funtua\n",
      "Processing Record 4 of Set 1 | aykhal\n",
      "Processing Record 5 of Set 1 | kiunga\n",
      "Processing Record 6 of Set 1 | albany\n",
      "Processing Record 7 of Set 1 | jamestown\n",
      "Processing Record 8 of Set 1 | taolanaro\n",
      "City not found. Skipping ...\n",
      "Processing Record 9 of Set 1 | kalevala\n",
      "Processing Record 10 of Set 1 | tual\n",
      "Processing Record 11 of Set 1 | bluff\n",
      "Processing Record 12 of Set 1 | amapa\n",
      "Processing Record 13 of Set 1 | kahului\n",
      "Processing Record 14 of Set 1 | rikitea\n",
      "Processing Record 15 of Set 1 | saldanha\n",
      "Processing Record 16 of Set 1 | bundaberg\n",
      "Processing Record 17 of Set 1 | kazachinskoye\n",
      "Processing Record 18 of Set 1 | tsihombe\n",
      "City not found. Skipping ...\n",
      "Processing Record 19 of Set 1 | mataura\n",
      "Processing Record 20 of Set 1 | haines junction\n",
      "Processing Record 21 of Set 1 | lata\n",
      "Processing Record 22 of Set 1 | tiksi\n",
      "Processing Record 23 of Set 1 | punta arenas\n",
      "Processing Record 24 of Set 1 | yellowknife\n",
      "Processing Record 25 of Set 1 | kapaa\n",
      "Processing Record 26 of Set 1 | new norfolk\n",
      "Processing Record 27 of Set 1 | ilulissat\n",
      "Processing Record 28 of Set 1 | qaanaaq\n",
      "Processing Record 29 of Set 1 | namibe\n",
      "Processing Record 30 of Set 1 | mpanda\n",
      "Processing Record 31 of Set 1 | zemio\n",
      "Processing Record 32 of Set 1 | ushuaia\n",
      "Processing Record 33 of Set 1 | saint-philippe\n",
      "Processing Record 34 of Set 1 | souillac\n",
      "Processing Record 35 of Set 1 | mar del plata\n",
      "Processing Record 36 of Set 1 | victoria\n",
      "Processing Record 37 of Set 1 | antalaha\n",
      "Processing Record 38 of Set 1 | mackay\n",
      "Processing Record 39 of Set 1 | port alfred\n",
      "Processing Record 40 of Set 1 | busselton\n",
      "Processing Record 41 of Set 1 | tessalit\n",
      "Processing Record 42 of Set 1 | nikolskoye\n",
      "Processing Record 43 of Set 1 | castro\n",
      "Processing Record 44 of Set 1 | los llanos de aridane\n",
      "Processing Record 45 of Set 1 | tuktoyaktuk\n",
      "Processing Record 46 of Set 1 | georgetown\n",
      "Processing Record 47 of Set 1 | donskoye\n",
      "Processing Record 48 of Set 1 | upernavik\n",
      "Processing Record 49 of Set 1 | hobart\n",
      "Processing Record 50 of Set 1 | narsaq\n",
      "Processing Record 1 of Set 2 | vaini\n",
      "Processing Record 2 of Set 2 | athabasca\n",
      "Processing Record 3 of Set 2 | hinton\n",
      "Processing Record 4 of Set 2 | saskylakh\n",
      "Processing Record 5 of Set 2 | chokurdakh\n",
      "Processing Record 6 of Set 2 | oussouye\n",
      "Processing Record 7 of Set 2 | cape town\n",
      "Processing Record 8 of Set 2 | bull savanna\n",
      "Processing Record 9 of Set 2 | vung tau\n",
      "Processing Record 10 of Set 2 | vila franca do campo\n",
      "Processing Record 11 of Set 2 | meulaboh\n",
      "Processing Record 12 of Set 2 | atuona\n",
      "Processing Record 13 of Set 2 | kimberley\n",
      "Processing Record 14 of Set 2 | pangkalanbuun\n",
      "Processing Record 15 of Set 2 | adrar\n",
      "Processing Record 16 of Set 2 | isla mujeres\n",
      "Processing Record 17 of Set 2 | sitka\n",
      "Processing Record 18 of Set 2 | yulara\n",
      "Processing Record 19 of Set 2 | lodwar\n",
      "Processing Record 20 of Set 2 | xinzhi\n",
      "Processing Record 21 of Set 2 | port elizabeth\n",
      "Processing Record 22 of Set 2 | goma\n",
      "Processing Record 23 of Set 2 | vao\n",
      "Processing Record 24 of Set 2 | bambous virieux\n",
      "Processing Record 25 of Set 2 | lazaro cardenas\n",
      "Processing Record 26 of Set 2 | yuli\n",
      "Processing Record 27 of Set 2 | barentsburg\n",
      "City not found. Skipping ...\n",
      "Processing Record 28 of Set 2 | thompson\n",
      "Processing Record 29 of Set 2 | arraial do cabo\n",
      "Processing Record 30 of Set 2 | khatanga\n",
      "Processing Record 31 of Set 2 | cherskiy\n",
      "Processing Record 32 of Set 2 | pevek\n",
      "Processing Record 33 of Set 2 | severo-kurilsk\n",
      "Processing Record 34 of Set 2 | padang\n",
      "Processing Record 35 of Set 2 | isangel\n",
      "Processing Record 36 of Set 2 | puerto ayora\n",
      "Processing Record 37 of Set 2 | nguiu\n",
      "City not found. Skipping ...\n",
      "Processing Record 38 of Set 2 | samusu\n",
      "City not found. Skipping ...\n",
      "Processing Record 39 of Set 2 | geraldton\n",
      "Processing Record 40 of Set 2 | hermanus\n",
      "Processing Record 41 of Set 2 | attawapiskat\n",
      "City not found. Skipping ...\n",
      "Processing Record 42 of Set 2 | safaga\n",
      "Processing Record 43 of Set 2 | butaritari\n",
      "Processing Record 44 of Set 2 | east london\n",
      "Processing Record 45 of Set 2 | vanimo\n",
      "Processing Record 46 of Set 2 | red wing\n",
      "Processing Record 47 of Set 2 | waingapu\n",
      "Processing Record 48 of Set 2 | bredasdorp\n",
      "Processing Record 49 of Set 2 | clyde river\n",
      "Processing Record 50 of Set 2 | poum\n",
      "Processing Record 1 of Set 3 | cabedelo\n",
      "Processing Record 2 of Set 3 | iqaluit\n",
      "Processing Record 3 of Set 3 | noumea\n",
      "Processing Record 4 of Set 3 | gisborne\n",
      "Processing Record 5 of Set 3 | preobrazheniye\n",
      "Processing Record 6 of Set 3 | luderitz\n",
      "Processing Record 7 of Set 3 | skjervoy\n",
      "Processing Record 8 of Set 3 | pocone\n",
      "Processing Record 9 of Set 3 | illoqqortoormiut\n",
      "City not found. Skipping ...\n",
      "Processing Record 10 of Set 3 | chuy\n",
      "Processing Record 11 of Set 3 | ambilobe\n",
      "Processing Record 12 of Set 3 | hami\n",
      "Processing Record 13 of Set 3 | hithadhoo\n",
      "Processing Record 14 of Set 3 | bengkulu\n",
      "Processing Record 15 of Set 3 | deputatskiy\n",
      "Processing Record 16 of Set 3 | kavieng\n",
      "Processing Record 17 of Set 3 | ahipara\n",
      "Processing Record 18 of Set 3 | sao joao da barra\n",
      "Processing Record 19 of Set 3 | wolmaranstad\n",
      "City not found. Skipping ...\n",
      "Processing Record 20 of Set 3 | barrow\n",
      "Processing Record 21 of Set 3 | mayo\n",
      "Processing Record 22 of Set 3 | hambantota\n",
      "Processing Record 23 of Set 3 | kazanskoye\n",
      "Processing Record 24 of Set 3 | maun\n",
      "Processing Record 25 of Set 3 | weligama\n",
      "Processing Record 26 of Set 3 | lebu\n",
      "Processing Record 27 of Set 3 | phultala\n",
      "Processing Record 28 of Set 3 | norman wells\n",
      "Processing Record 29 of Set 3 | kaitangata\n",
      "Processing Record 30 of Set 3 | aginskoye\n",
      "Processing Record 31 of Set 3 | touros\n",
      "Processing Record 32 of Set 3 | nome\n",
      "Processing Record 33 of Set 3 | pisco\n",
      "Processing Record 34 of Set 3 | warqla\n",
      "City not found. Skipping ...\n",
      "Processing Record 35 of Set 3 | chapais\n",
      "Processing Record 36 of Set 3 | pacific grove\n",
      "Processing Record 37 of Set 3 | grindavik\n",
      "Processing Record 38 of Set 3 | plettenberg bay\n",
      "Processing Record 39 of Set 3 | obluche\n",
      "City not found. Skipping ...\n",
      "Processing Record 40 of Set 3 | cayenne\n",
      "Processing Record 41 of Set 3 | karaul\n",
      "City not found. Skipping ...\n",
      "Processing Record 42 of Set 3 | komsomolskiy\n",
      "Processing Record 43 of Set 3 | bethel\n",
      "Processing Record 44 of Set 3 | hofn\n",
      "Processing Record 45 of Set 3 | constitucion\n",
      "Processing Record 46 of Set 3 | nantucket\n",
      "Processing Record 47 of Set 3 | khaniotis\n",
      "Processing Record 48 of Set 3 | belmonte\n",
      "Processing Record 49 of Set 3 | katsuura\n",
      "Processing Record 50 of Set 3 | vrangel\n",
      "Processing Record 1 of Set 4 | malanje\n",
      "Processing Record 2 of Set 4 | badami\n",
      "Processing Record 3 of Set 4 | tasiilaq\n",
      "Processing Record 4 of Set 4 | kerman\n",
      "Processing Record 5 of Set 4 | hilo\n",
      "Processing Record 6 of Set 4 | bonthe\n",
      "Processing Record 7 of Set 4 | alofi\n",
      "Processing Record 8 of Set 4 | iquitos\n",
      "Processing Record 9 of Set 4 | cidreira\n",
      "Processing Record 10 of Set 4 | avarua\n",
      "Processing Record 11 of Set 4 | sorland\n",
      "Processing Record 12 of Set 4 | lolua\n",
      "City not found. Skipping ...\n",
      "Processing Record 13 of Set 4 | pyapon\n",
      "Processing Record 14 of Set 4 | ponta do sol\n",
      "Processing Record 15 of Set 4 | wattegama\n",
      "Processing Record 16 of Set 4 | homer\n",
      "Processing Record 17 of Set 4 | belushya guba\n",
      "City not found. Skipping ...\n",
      "Processing Record 18 of Set 4 | fevralsk\n",
      "City not found. Skipping ...\n",
      "Processing Record 19 of Set 4 | sioux lookout\n",
      "Processing Record 20 of Set 4 | kandrian\n",
      "Processing Record 21 of Set 4 | richards bay\n",
      "Processing Record 22 of Set 4 | puerto carreno\n",
      "Processing Record 23 of Set 4 | nabire\n",
      "Processing Record 24 of Set 4 | lagoa\n",
      "Processing Record 25 of Set 4 | yumen\n",
      "Processing Record 26 of Set 4 | san carlos\n",
      "Processing Record 27 of Set 4 | chicama\n",
      "Processing Record 28 of Set 4 | san ramon de la nueva oran\n",
      "Processing Record 29 of Set 4 | nyirvasvari\n",
      "Processing Record 30 of Set 4 | teknaf\n",
      "Processing Record 31 of Set 4 | seoul\n",
      "Processing Record 32 of Set 4 | port hardy\n",
      "Processing Record 33 of Set 4 | kalmunai\n",
      "Processing Record 34 of Set 4 | stokmarknes\n",
      "Processing Record 35 of Set 4 | noormarkku\n",
      "Processing Record 36 of Set 4 | mahebourg\n",
      "Processing Record 37 of Set 4 | la ronge\n",
      "Processing Record 38 of Set 4 | san ramon\n"
     ]
    },
    {
     "name": "stdout",
     "output_type": "stream",
     "text": [
      "Processing Record 39 of Set 4 | zaidpur\n",
      "Processing Record 40 of Set 4 | bilma\n",
      "Processing Record 41 of Set 4 | saint george\n",
      "Processing Record 42 of Set 4 | faya\n",
      "Processing Record 43 of Set 4 | warren\n",
      "Processing Record 44 of Set 4 | grand river south east\n",
      "City not found. Skipping ...\n",
      "Processing Record 45 of Set 4 | howard springs\n",
      "Processing Record 46 of Set 4 | aklavik\n",
      "Processing Record 47 of Set 4 | leningradskiy\n",
      "Processing Record 48 of Set 4 | landau\n",
      "Processing Record 49 of Set 4 | kushmurun\n",
      "Processing Record 50 of Set 4 | tuatapere\n",
      "Processing Record 1 of Set 5 | whakatane\n",
      "Processing Record 2 of Set 5 | san patricio\n",
      "Processing Record 3 of Set 5 | burlington\n",
      "Processing Record 4 of Set 5 | coihaique\n",
      "Processing Record 5 of Set 5 | santa isabel do rio negro\n",
      "Processing Record 6 of Set 5 | husavik\n",
      "Processing Record 7 of Set 5 | yugorsk\n",
      "Processing Record 8 of Set 5 | bowen\n",
      "Processing Record 9 of Set 5 | marcona\n",
      "City not found. Skipping ...\n",
      "Processing Record 10 of Set 5 | lavrentiya\n",
      "Processing Record 11 of Set 5 | camopi\n",
      "Processing Record 12 of Set 5 | patrocinio\n",
      "Processing Record 13 of Set 5 | barabinsk\n",
      "Processing Record 14 of Set 5 | khakhea\n",
      "Processing Record 15 of Set 5 | mishelevka\n",
      "Processing Record 16 of Set 5 | bagrami\n",
      "Processing Record 17 of Set 5 | inhapi\n",
      "Processing Record 18 of Set 5 | praia\n",
      "Processing Record 19 of Set 5 | kodiak\n",
      "Processing Record 20 of Set 5 | severnyy\n",
      "Processing Record 21 of Set 5 | les cayes\n",
      "Processing Record 22 of Set 5 | rocha\n",
      "Processing Record 23 of Set 5 | san pedro\n",
      "Processing Record 24 of Set 5 | muros\n",
      "Processing Record 25 of Set 5 | mayna\n",
      "Processing Record 26 of Set 5 | samarai\n",
      "Processing Record 27 of Set 5 | virginia beach\n",
      "Processing Record 28 of Set 5 | mizdah\n",
      "Processing Record 29 of Set 5 | geresk\n",
      "City not found. Skipping ...\n",
      "Processing Record 30 of Set 5 | port lincoln\n",
      "Processing Record 31 of Set 5 | carnarvon\n",
      "Processing Record 32 of Set 5 | longyearbyen\n",
      "Processing Record 33 of Set 5 | bardiyah\n",
      "Processing Record 34 of Set 5 | port blair\n",
      "Processing Record 35 of Set 5 | ulladulla\n",
      "Processing Record 36 of Set 5 | brunswick\n",
      "Processing Record 37 of Set 5 | george town\n",
      "Processing Record 38 of Set 5 | sao felix do xingu\n",
      "Processing Record 39 of Set 5 | qui nhon\n",
      "Processing Record 40 of Set 5 | ancud\n",
      "Processing Record 41 of Set 5 | estacion coahuila\n",
      "Processing Record 42 of Set 5 | airai\n",
      "Processing Record 43 of Set 5 | dikson\n",
      "Processing Record 44 of Set 5 | moosomin\n",
      "Processing Record 45 of Set 5 | belaya gora\n",
      "Processing Record 46 of Set 5 | kachikau\n",
      "City not found. Skipping ...\n",
      "Processing Record 47 of Set 5 | anadyr\n",
      "Processing Record 48 of Set 5 | ribeira grande\n",
      "Processing Record 49 of Set 5 | kruisfontein\n",
      "Processing Record 50 of Set 5 | piacabucu\n",
      "Processing Record 1 of Set 6 | christchurch\n",
      "Processing Record 2 of Set 6 | matara\n",
      "Processing Record 3 of Set 6 | acapulco\n",
      "Processing Record 4 of Set 6 | quime\n",
      "Processing Record 5 of Set 6 | atbasar\n",
      "Processing Record 6 of Set 6 | guerrero negro\n",
      "Processing Record 7 of Set 6 | esperance\n",
      "Processing Record 8 of Set 6 | pierre\n",
      "Processing Record 9 of Set 6 | carlisle\n",
      "Processing Record 10 of Set 6 | taoudenni\n",
      "Processing Record 11 of Set 6 | fayaoue\n",
      "Processing Record 12 of Set 6 | faanui\n",
      "Processing Record 13 of Set 6 | loiza\n",
      "Processing Record 14 of Set 6 | hay river\n",
      "Processing Record 15 of Set 6 | shkotovo-26\n",
      "City not found. Skipping ...\n",
      "Processing Record 16 of Set 6 | bandarbeyla\n",
      "Processing Record 17 of Set 6 | waldkirchen\n",
      "Processing Record 18 of Set 6 | hutchinson\n",
      "Processing Record 19 of Set 6 | fortuna\n",
      "Processing Record 20 of Set 6 | malakal\n",
      "Processing Record 21 of Set 6 | manoel urbano\n",
      "Processing Record 22 of Set 6 | sur\n",
      "Processing Record 23 of Set 6 | manjacaze\n",
      "Processing Record 24 of Set 6 | vestmannaeyjar\n",
      "Processing Record 25 of Set 6 | ganzhou\n",
      "Processing Record 26 of Set 6 | horsham\n",
      "Processing Record 27 of Set 6 | tabiauea\n",
      "City not found. Skipping ...\n",
      "Processing Record 28 of Set 6 | porto velho\n",
      "Processing Record 29 of Set 6 | lar gerd\n",
      "City not found. Skipping ...\n",
      "Processing Record 30 of Set 6 | roma\n",
      "Processing Record 31 of Set 6 | gay\n",
      "Processing Record 32 of Set 6 | trelew\n",
      "Processing Record 33 of Set 6 | saint-augustin\n",
      "Processing Record 34 of Set 6 | clovis\n",
      "Processing Record 35 of Set 6 | vaitupu\n",
      "City not found. Skipping ...\n",
      "Processing Record 36 of Set 6 | hamilton\n",
      "Processing Record 37 of Set 6 | mys shmidta\n",
      "City not found. Skipping ...\n",
      "Processing Record 38 of Set 6 | itaqui\n",
      "Processing Record 39 of Set 6 | naze\n",
      "Processing Record 40 of Set 6 | yerbogachen\n",
      "Processing Record 41 of Set 6 | jasper\n",
      "Processing Record 42 of Set 6 | klaksvik\n",
      "Processing Record 43 of Set 6 | labuhan\n",
      "Processing Record 44 of Set 6 | nanortalik\n",
      "Processing Record 45 of Set 6 | ishinomaki\n",
      "Processing Record 46 of Set 6 | palmer\n",
      "Processing Record 47 of Set 6 | sisimiut\n",
      "Processing Record 48 of Set 6 | agadez\n",
      "Processing Record 49 of Set 6 | san andres\n",
      "Processing Record 50 of Set 6 | sabla\n",
      "Processing Record 1 of Set 7 | praia da vitoria\n",
      "Processing Record 2 of Set 7 | olinda\n",
      "Processing Record 3 of Set 7 | olavarria\n",
      "Processing Record 4 of Set 7 | krasnoselkup\n",
      "Processing Record 5 of Set 7 | hadgaon\n",
      "Processing Record 6 of Set 7 | koslan\n",
      "Processing Record 7 of Set 7 | salalah\n",
      "Processing Record 8 of Set 7 | marathon\n",
      "Processing Record 9 of Set 7 | port shepstone\n",
      "Processing Record 10 of Set 7 | hermiston\n",
      "Processing Record 11 of Set 7 | laguna\n",
      "Processing Record 12 of Set 7 | wahran\n",
      "City not found. Skipping ...\n",
      "Processing Record 13 of Set 7 | halalo\n",
      "City not found. Skipping ...\n",
      "Processing Record 14 of Set 7 | terney\n",
      "Processing Record 15 of Set 7 | lalmohan\n",
      "Processing Record 16 of Set 7 | somerset\n",
      "Processing Record 17 of Set 7 | jalu\n",
      "Processing Record 18 of Set 7 | saint-raymond\n",
      "Processing Record 19 of Set 7 | bathsheba\n",
      "Processing Record 20 of Set 7 | milledgeville\n",
      "Processing Record 21 of Set 7 | dauphin\n",
      "Processing Record 22 of Set 7 | bay roberts\n",
      "Processing Record 23 of Set 7 | sao filipe\n",
      "Processing Record 24 of Set 7 | tezu\n",
      "Processing Record 25 of Set 7 | lunenburg\n",
      "Processing Record 26 of Set 7 | tongren\n",
      "Processing Record 27 of Set 7 | talnakh\n",
      "Processing Record 28 of Set 7 | fort saint john\n",
      "City not found. Skipping ...\n",
      "Processing Record 29 of Set 7 | caluquembe\n",
      "Processing Record 30 of Set 7 | loa janan\n",
      "Processing Record 31 of Set 7 | hazorasp\n",
      "Processing Record 32 of Set 7 | mitsamiouli\n",
      "Processing Record 33 of Set 7 | san quintin\n",
      "Processing Record 34 of Set 7 | mercedes\n",
      "Processing Record 35 of Set 7 | ixtapa\n",
      "Processing Record 36 of Set 7 | lorengau\n",
      "Processing Record 37 of Set 7 | soloneshnoye\n",
      "Processing Record 38 of Set 7 | tidore\n",
      "City not found. Skipping ...\n",
      "Processing Record 39 of Set 7 | ust-nera\n",
      "Processing Record 40 of Set 7 | qaqortoq\n",
      "Processing Record 41 of Set 7 | torbay\n",
      "Processing Record 42 of Set 7 | bajo baudo\n",
      "City not found. Skipping ...\n",
      "Processing Record 43 of Set 7 | estelle\n",
      "Processing Record 44 of Set 7 | qeshm\n",
      "Processing Record 45 of Set 7 | umm kaddadah\n",
      "Processing Record 46 of Set 7 | benghazi\n",
      "Processing Record 47 of Set 7 | quatre cocos\n",
      "Processing Record 48 of Set 7 | fare\n",
      "Processing Record 49 of Set 7 | coolum beach\n",
      "Processing Record 50 of Set 7 | huarmey\n",
      "Processing Record 1 of Set 8 | emerald\n",
      "Processing Record 2 of Set 8 | taitung\n",
      "Processing Record 3 of Set 8 | catio\n",
      "Processing Record 4 of Set 8 | bur gabo\n",
      "City not found. Skipping ...\n",
      "Processing Record 5 of Set 8 | leonidion\n",
      "City not found. Skipping ...\n",
      "Processing Record 6 of Set 8 | novyy urgal\n",
      "Processing Record 7 of Set 8 | obo\n",
      "Processing Record 8 of Set 8 | kingston\n",
      "Processing Record 9 of Set 8 | black river\n",
      "Processing Record 10 of Set 8 | ban nahin\n",
      "Processing Record 11 of Set 8 | ichinohe\n",
      "Processing Record 12 of Set 8 | craig\n",
      "Processing Record 13 of Set 8 | tombouctou\n",
      "Processing Record 14 of Set 8 | mugur-aksy\n",
      "Processing Record 15 of Set 8 | raseiniai\n",
      "Processing Record 16 of Set 8 | aksehir\n",
      "Processing Record 17 of Set 8 | east wenatchee bench\n",
      "Processing Record 18 of Set 8 | vaasa\n",
      "Processing Record 19 of Set 8 | medicine hat\n",
      "Processing Record 20 of Set 8 | buala\n",
      "Processing Record 21 of Set 8 | pangnirtung\n",
      "Processing Record 22 of Set 8 | mgandu\n",
      "Processing Record 23 of Set 8 | labrea\n",
      "Processing Record 24 of Set 8 | alice springs\n",
      "Processing Record 25 of Set 8 | bage\n"
     ]
    },
    {
     "name": "stdout",
     "output_type": "stream",
     "text": [
      "Processing Record 26 of Set 8 | karratha\n",
      "Processing Record 27 of Set 8 | plouzane\n",
      "Processing Record 28 of Set 8 | beringovskiy\n",
      "Processing Record 29 of Set 8 | mongoumba\n",
      "Processing Record 30 of Set 8 | saint-pierre\n",
      "Processing Record 31 of Set 8 | erzin\n",
      "Processing Record 32 of Set 8 | port-gentil\n",
      "Processing Record 33 of Set 8 | astoria\n",
      "Processing Record 34 of Set 8 | fairbanks\n",
      "Processing Record 35 of Set 8 | hasaki\n",
      "Processing Record 36 of Set 8 | san fernando\n",
      "Processing Record 37 of Set 8 | usinsk\n",
      "Processing Record 38 of Set 8 | asau\n",
      "Processing Record 39 of Set 8 | viedma\n",
      "Processing Record 40 of Set 8 | soe\n",
      "Processing Record 41 of Set 8 | voskresenskoye\n",
      "Processing Record 42 of Set 8 | dongsheng\n",
      "Processing Record 43 of Set 8 | abu samrah\n",
      "Processing Record 44 of Set 8 | tutoia\n",
      "Processing Record 45 of Set 8 | pendleton\n",
      "Processing Record 46 of Set 8 | westport\n",
      "Processing Record 47 of Set 8 | pindushi\n",
      "Processing Record 48 of Set 8 | jijiga\n",
      "Processing Record 49 of Set 8 | bosaso\n",
      "Processing Record 50 of Set 8 | alta floresta\n",
      "Processing Record 1 of Set 9 | provideniya\n",
      "Processing Record 2 of Set 9 | shenjiamen\n",
      "Processing Record 3 of Set 9 | odawara\n",
      "Processing Record 4 of Set 9 | tiruchchendur\n",
      "Processing Record 5 of Set 9 | locri\n",
      "Processing Record 6 of Set 9 | college\n",
      "Processing Record 7 of Set 9 | domoni\n",
      "Processing Record 8 of Set 9 | miri\n",
      "Processing Record 9 of Set 9 | quelimane\n",
      "Processing Record 10 of Set 9 | jiddah\n",
      "City not found. Skipping ...\n",
      "Processing Record 11 of Set 9 | cortez\n",
      "Processing Record 12 of Set 9 | cockburn harbour\n",
      "City not found. Skipping ...\n",
      "Processing Record 13 of Set 9 | dwarka\n",
      "Processing Record 14 of Set 9 | kudahuvadhoo\n",
      "Processing Record 15 of Set 9 | tigil\n",
      "Processing Record 16 of Set 9 | vallenar\n",
      "Processing Record 17 of Set 9 | tomatlan\n",
      "Processing Record 18 of Set 9 | tasbuget\n",
      "City not found. Skipping ...\n",
      "Processing Record 19 of Set 9 | diego de almagro\n",
      "Processing Record 20 of Set 9 | ngunguru\n",
      "Processing Record 21 of Set 9 | kaspican\n",
      "City not found. Skipping ...\n",
      "Processing Record 22 of Set 9 | cururupu\n",
      "Processing Record 23 of Set 9 | bestobe\n",
      "Processing Record 24 of Set 9 | santa maria\n",
      "Processing Record 25 of Set 9 | stadtallendorf\n",
      "Processing Record 26 of Set 9 | teguldet\n",
      "Processing Record 27 of Set 9 | cairns\n",
      "Processing Record 28 of Set 9 | mabaruma\n",
      "Processing Record 29 of Set 9 | lourdes\n",
      "Processing Record 30 of Set 9 | port moresby\n",
      "Processing Record 31 of Set 9 | korla\n",
      "Processing Record 32 of Set 9 | amderma\n",
      "City not found. Skipping ...\n",
      "Processing Record 33 of Set 9 | santa fe\n",
      "Processing Record 34 of Set 9 | ibra\n",
      "Processing Record 35 of Set 9 | lompoc\n",
      "Processing Record 36 of Set 9 | port hueneme\n",
      "Processing Record 37 of Set 9 | dolbeau\n",
      "City not found. Skipping ...\n",
      "Processing Record 38 of Set 9 | ponta pora\n",
      "Processing Record 39 of Set 9 | upington\n",
      "Processing Record 40 of Set 9 | choix\n",
      "Processing Record 41 of Set 9 | sharkan\n",
      "Processing Record 42 of Set 9 | xining\n",
      "Processing Record 43 of Set 9 | marawi\n",
      "Processing Record 44 of Set 9 | caravelas\n",
      "Processing Record 45 of Set 9 | sao jose da coroa grande\n",
      "Processing Record 46 of Set 9 | thinadhoo\n",
      "Processing Record 47 of Set 9 | hwange\n",
      "Processing Record 48 of Set 9 | ayagoz\n",
      "Processing Record 49 of Set 9 | daru\n",
      "Processing Record 50 of Set 9 | anju\n",
      "Processing Record 1 of Set 10 | lapua\n",
      "Processing Record 2 of Set 10 | banda aceh\n",
      "Processing Record 3 of Set 10 | dargaville\n",
      "Processing Record 4 of Set 10 | whitehorse\n",
      "Processing Record 5 of Set 10 | nizhneyansk\n",
      "City not found. Skipping ...\n",
      "Processing Record 6 of Set 10 | azare\n",
      "Processing Record 7 of Set 10 | aripuana\n",
      "Processing Record 8 of Set 10 | warrington\n",
      "Processing Record 9 of Set 10 | jinchang\n",
      "Processing Record 10 of Set 10 | tyukalinsk\n",
      "Processing Record 11 of Set 10 | viligili\n",
      "City not found. Skipping ...\n",
      "Processing Record 12 of Set 10 | sola\n",
      "Processing Record 13 of Set 10 | semey\n",
      "Processing Record 14 of Set 10 | cheremushskiy\n",
      "Processing Record 15 of Set 10 | sinazongwe\n",
      "Processing Record 16 of Set 10 | markova\n",
      "Processing Record 17 of Set 10 | puerto escondido\n",
      "Processing Record 18 of Set 10 | kebemer\n",
      "City not found. Skipping ...\n",
      "Processing Record 19 of Set 10 | morant bay\n",
      "Processing Record 20 of Set 10 | hihifo\n",
      "City not found. Skipping ...\n",
      "Processing Record 21 of Set 10 | helsinki\n",
      "Processing Record 22 of Set 10 | san bartolome\n",
      "Processing Record 23 of Set 10 | raduzhnyy\n",
      "Processing Record 24 of Set 10 | kishi\n",
      "Processing Record 25 of Set 10 | roches noires\n",
      "City not found. Skipping ...\n",
      "Processing Record 26 of Set 10 | nanhai\n",
      "Processing Record 27 of Set 10 | kota belud\n",
      "Processing Record 28 of Set 10 | krasnokholm\n",
      "Processing Record 29 of Set 10 | aswan\n",
      "Processing Record 30 of Set 10 | tari\n",
      "Processing Record 31 of Set 10 | srednekolymsk\n",
      "Processing Record 32 of Set 10 | nadym\n",
      "Processing Record 33 of Set 10 | aranos\n",
      "Processing Record 34 of Set 10 | mgachi\n",
      "Processing Record 35 of Set 10 | vila velha\n",
      "Processing Record 36 of Set 10 | yar-sale\n",
      "Processing Record 37 of Set 10 | doctor pedro p. pena\n",
      "City not found. Skipping ...\n",
      "Processing Record 38 of Set 10 | kendal\n",
      "Processing Record 39 of Set 10 | shingu\n",
      "Processing Record 40 of Set 10 | lubumbashi\n",
      "Processing Record 41 of Set 10 | sentyabrskiy\n",
      "City not found. Skipping ...\n",
      "Processing Record 42 of Set 10 | pitsunda\n",
      "Processing Record 43 of Set 10 | codrington\n",
      "Processing Record 44 of Set 10 | apatity\n",
      "Processing Record 45 of Set 10 | tir pol\n",
      "City not found. Skipping ...\n",
      "Processing Record 46 of Set 10 | manta\n",
      "Processing Record 47 of Set 10 | almaznyy\n",
      "Processing Record 48 of Set 10 | moose factory\n",
      "Processing Record 49 of Set 10 | saleaula\n",
      "City not found. Skipping ...\n",
      "Processing Record 50 of Set 10 | taga\n",
      "Processing Record 1 of Set 11 | lanzhou\n",
      "Processing Record 2 of Set 11 | broome\n",
      "Processing Record 3 of Set 11 | wilmington\n",
      "Processing Record 4 of Set 11 | pelym\n",
      "Processing Record 5 of Set 11 | trapani\n",
      "Processing Record 6 of Set 11 | labutta\n",
      "City not found. Skipping ...\n",
      "Processing Record 7 of Set 11 | palabuhanratu\n",
      "City not found. Skipping ...\n",
      "Processing Record 8 of Set 11 | zabol\n",
      "Processing Record 9 of Set 11 | tura\n",
      "Processing Record 10 of Set 11 | jeremie\n",
      "Processing Record 11 of Set 11 | batagay-alyta\n",
      "Processing Record 12 of Set 11 | totness\n",
      "Processing Record 13 of Set 11 | nouadhibou\n",
      "Processing Record 14 of Set 11 | klichka\n",
      "Processing Record 15 of Set 11 | joshimath\n",
      "Processing Record 16 of Set 11 | sterling\n",
      "Processing Record 17 of Set 11 | izhma\n",
      "Processing Record 18 of Set 11 | sibolga\n",
      "Processing Record 19 of Set 11 | gjellerup kirkeby\n",
      "Processing Record 20 of Set 11 | khorixas\n",
      "Processing Record 21 of Set 11 | kutum\n",
      "Processing Record 22 of Set 11 | orsta\n",
      "Processing Record 23 of Set 11 | havoysund\n",
      "Processing Record 24 of Set 11 | kjopsvik\n",
      "Processing Record 25 of Set 11 | pangody\n",
      "Processing Record 26 of Set 11 | poso\n",
      "Processing Record 27 of Set 11 | goderich\n",
      "Processing Record 28 of Set 11 | weihai\n",
      "Processing Record 29 of Set 11 | biltine\n",
      "Processing Record 30 of Set 11 | shahrud\n",
      "Processing Record 31 of Set 11 | champasak\n",
      "Processing Record 32 of Set 11 | ganta\n",
      "Processing Record 33 of Set 11 | yuzhno-kurilsk\n",
      "Processing Record 34 of Set 11 | te anau\n",
      "Processing Record 35 of Set 11 | bairiki\n",
      "Processing Record 36 of Set 11 | loano\n",
      "Processing Record 37 of Set 11 | rapid valley\n",
      "Processing Record 38 of Set 11 | katherine\n",
      "Processing Record 39 of Set 11 | tornio\n",
      "Processing Record 40 of Set 11 | visnes\n",
      "Processing Record 41 of Set 11 | cap malheureux\n",
      "Processing Record 42 of Set 11 | san clemente\n",
      "Processing Record 43 of Set 11 | coruripe\n",
      "Processing Record 44 of Set 11 | zhezkazgan\n",
      "Processing Record 45 of Set 11 | vostok\n",
      "Processing Record 46 of Set 11 | shanhetun\n",
      "Processing Record 47 of Set 11 | khasan\n",
      "Processing Record 48 of Set 11 | babanusah\n",
      "City not found. Skipping ...\n",
      "Processing Record 49 of Set 11 | inhambane\n",
      "Processing Record 50 of Set 11 | netrakona\n",
      "Processing Record 1 of Set 12 | wynyard\n",
      "Processing Record 2 of Set 12 | okha\n",
      "Processing Record 3 of Set 12 | urdzhar\n",
      "City not found. Skipping ...\n",
      "Processing Record 4 of Set 12 | illapel\n",
      "Processing Record 5 of Set 12 | husum\n",
      "Processing Record 6 of Set 12 | bone\n",
      "Processing Record 7 of Set 12 | pemangkat\n",
      "Processing Record 8 of Set 12 | suruc\n",
      "Processing Record 9 of Set 12 | makarska\n"
     ]
    },
    {
     "name": "stdout",
     "output_type": "stream",
     "text": [
      "Processing Record 10 of Set 12 | ahuimanu\n",
      "Processing Record 11 of Set 12 | half moon bay\n",
      "Processing Record 12 of Set 12 | mogadishu\n",
      "Processing Record 13 of Set 12 | karagaylinskiy\n",
      "Processing Record 14 of Set 12 | ayan\n",
      "Processing Record 15 of Set 12 | ipixuna\n",
      "Processing Record 16 of Set 12 | namatanai\n",
      "Processing Record 17 of Set 12 | kununurra\n",
      "Processing Record 18 of Set 12 | garowe\n",
      "Processing Record 19 of Set 12 | mrirt\n",
      "City not found. Skipping ...\n",
      "Processing Record 20 of Set 12 | smoky lake\n",
      "Processing Record 21 of Set 12 | auki\n",
      "-----------------------\n",
      "Data Retrieval Complete\n",
      "-----------------------\n"
     ]
    }
   ],
   "source": [
    "# Starting URL for Weather Map API call\n",
    "url = f\"http://api.openweathermap.org/data/2.5/weather?units=Imperial&APPID={weather_api_key}\"\n",
    "# Print (url)\n",
    "\n",
    "\n",
    "# List of City Data\n",
    "city_data = []\n",
    "\n",
    "# Print to logger\n",
    "print(\"Beginning Data Retrieval\")\n",
    "print (\"-----------------------\")\n",
    "\n",
    "\n",
    "# Create counters\n",
    "record_count = 1\n",
    "set_count = 1\n",
    "\n",
    "# Loop through all the cities in list\n",
    "for index, city in enumerate(cities):\n",
    "    \n",
    "    # Group cities in sets of 50 \n",
    "    if (index % 50 == 0 and index >= 50):\n",
    "        set_count += 1\n",
    "        record_count = 1\n",
    "        \n",
    "   \n",
    "    city_url = url + \"&q=\" + city\n",
    "\n",
    "    print(f\"Processing Record {record_count} of Set {set_count} | {city}\")\n",
    "    \n",
    "    record_count += 1\n",
    "    \n",
    "    # Run an API request\n",
    "    try:\n",
    "\n",
    "        city_weather = requests.get(city_url).json()\n",
    "        \n",
    "\n",
    "        city_lat = city_weather[\"coord\"][\"lat\"]\n",
    "        city_lng = city_weather[\"coord\"][\"lon\"]\n",
    "        city_max_temp = city_weather[\"main\"][\"temp_max\"]\n",
    "        city_humidity = city_weather[\"main\"][\"humidity\"]\n",
    "        city_clouds = city_weather[\"clouds\"][\"all\"]\n",
    "        city_wind = city_weather[\"wind\"][\"speed\"]\n",
    "        city_country = city_weather[\"sys\"][\"country\"]\n",
    "        city_date = city_weather[\"dt\"]\n",
    "        \n",
    "        # Append the city info into the city data list\n",
    "        city_data.append({\n",
    "            \"City\" :city,\n",
    "            \"Lat\" :city_lat,\n",
    "            \"Lng\" :city_lng,\n",
    "            \"Max Temp\" :city_max_temp,\n",
    "            \"Humidity\" :city_humidity,\n",
    "            \"Cloudiness\" :city_clouds,\n",
    "            \"Wind Speed\" :city_wind,\n",
    "            \"Country\" :city_country,\n",
    "            \"Date\" :city_date  \n",
    "        })\n",
    "    except:\n",
    "        \n",
    "        print(\"City not found. Skipping ...\")\n",
    "        \n",
    "        pass\n",
    "    \n",
    "# Indicate that data loading is complete\n",
    "print(\"-----------------------\")\n",
    "print(\"Data Retrieval Complete\")\n",
    "print(\"-----------------------\")"
   ]
  },
  {
   "cell_type": "markdown",
   "metadata": {},
   "source": [
    "### Convert Raw Data to DataFrame\n",
    "* Export the city data into a .csv.\n",
    "* Display the DataFrame"
   ]
  },
  {
   "cell_type": "code",
   "execution_count": 6,
   "metadata": {},
   "outputs": [
    {
     "data": {
      "text/html": [
       "<div>\n",
       "<style scoped>\n",
       "    .dataframe tbody tr th:only-of-type {\n",
       "        vertical-align: middle;\n",
       "    }\n",
       "\n",
       "    .dataframe tbody tr th {\n",
       "        vertical-align: top;\n",
       "    }\n",
       "\n",
       "    .dataframe thead th {\n",
       "        text-align: right;\n",
       "    }\n",
       "</style>\n",
       "<table border=\"1\" class=\"dataframe\">\n",
       "  <thead>\n",
       "    <tr style=\"text-align: right;\">\n",
       "      <th></th>\n",
       "      <th>City</th>\n",
       "      <th>Lat</th>\n",
       "      <th>Lng</th>\n",
       "      <th>Max Temp</th>\n",
       "      <th>Humidity</th>\n",
       "      <th>Cloudiness</th>\n",
       "      <th>Wind Speed</th>\n",
       "      <th>Country</th>\n",
       "      <th>Date</th>\n",
       "    </tr>\n",
       "  </thead>\n",
       "  <tbody>\n",
       "    <tr>\n",
       "      <th>0</th>\n",
       "      <td>gurupi</td>\n",
       "      <td>-11.7292</td>\n",
       "      <td>-49.0686</td>\n",
       "      <td>72.52</td>\n",
       "      <td>38</td>\n",
       "      <td>0</td>\n",
       "      <td>3.91</td>\n",
       "      <td>BR</td>\n",
       "      <td>1658977841</td>\n",
       "    </tr>\n",
       "    <tr>\n",
       "      <th>1</th>\n",
       "      <td>sinop</td>\n",
       "      <td>41.7711</td>\n",
       "      <td>34.8709</td>\n",
       "      <td>60.33</td>\n",
       "      <td>51</td>\n",
       "      <td>0</td>\n",
       "      <td>5.08</td>\n",
       "      <td>TR</td>\n",
       "      <td>1658977841</td>\n",
       "    </tr>\n",
       "    <tr>\n",
       "      <th>2</th>\n",
       "      <td>funtua</td>\n",
       "      <td>11.5233</td>\n",
       "      <td>7.3081</td>\n",
       "      <td>70.47</td>\n",
       "      <td>90</td>\n",
       "      <td>100</td>\n",
       "      <td>9.66</td>\n",
       "      <td>NG</td>\n",
       "      <td>1658977842</td>\n",
       "    </tr>\n",
       "    <tr>\n",
       "      <th>3</th>\n",
       "      <td>aykhal</td>\n",
       "      <td>66.0000</td>\n",
       "      <td>111.5000</td>\n",
       "      <td>81.46</td>\n",
       "      <td>59</td>\n",
       "      <td>28</td>\n",
       "      <td>12.21</td>\n",
       "      <td>RU</td>\n",
       "      <td>1658977842</td>\n",
       "    </tr>\n",
       "    <tr>\n",
       "      <th>4</th>\n",
       "      <td>kiunga</td>\n",
       "      <td>-6.1219</td>\n",
       "      <td>141.2906</td>\n",
       "      <td>80.37</td>\n",
       "      <td>88</td>\n",
       "      <td>81</td>\n",
       "      <td>4.34</td>\n",
       "      <td>PG</td>\n",
       "      <td>1658977842</td>\n",
       "    </tr>\n",
       "    <tr>\n",
       "      <th>...</th>\n",
       "      <td>...</td>\n",
       "      <td>...</td>\n",
       "      <td>...</td>\n",
       "      <td>...</td>\n",
       "      <td>...</td>\n",
       "      <td>...</td>\n",
       "      <td>...</td>\n",
       "      <td>...</td>\n",
       "      <td>...</td>\n",
       "    </tr>\n",
       "    <tr>\n",
       "      <th>516</th>\n",
       "      <td>namatanai</td>\n",
       "      <td>-3.6667</td>\n",
       "      <td>152.4333</td>\n",
       "      <td>85.10</td>\n",
       "      <td>67</td>\n",
       "      <td>74</td>\n",
       "      <td>12.68</td>\n",
       "      <td>PG</td>\n",
       "      <td>1658977943</td>\n",
       "    </tr>\n",
       "    <tr>\n",
       "      <th>517</th>\n",
       "      <td>kununurra</td>\n",
       "      <td>-15.7667</td>\n",
       "      <td>128.7333</td>\n",
       "      <td>78.78</td>\n",
       "      <td>18</td>\n",
       "      <td>5</td>\n",
       "      <td>13.80</td>\n",
       "      <td>AU</td>\n",
       "      <td>1658978003</td>\n",
       "    </tr>\n",
       "    <tr>\n",
       "      <th>518</th>\n",
       "      <td>garowe</td>\n",
       "      <td>8.4054</td>\n",
       "      <td>48.4845</td>\n",
       "      <td>71.62</td>\n",
       "      <td>63</td>\n",
       "      <td>71</td>\n",
       "      <td>24.40</td>\n",
       "      <td>SO</td>\n",
       "      <td>1658977904</td>\n",
       "    </tr>\n",
       "    <tr>\n",
       "      <th>519</th>\n",
       "      <td>smoky lake</td>\n",
       "      <td>54.1169</td>\n",
       "      <td>-112.4686</td>\n",
       "      <td>70.12</td>\n",
       "      <td>65</td>\n",
       "      <td>19</td>\n",
       "      <td>4.45</td>\n",
       "      <td>CA</td>\n",
       "      <td>1658978004</td>\n",
       "    </tr>\n",
       "    <tr>\n",
       "      <th>520</th>\n",
       "      <td>auki</td>\n",
       "      <td>-8.7676</td>\n",
       "      <td>160.7034</td>\n",
       "      <td>86.54</td>\n",
       "      <td>62</td>\n",
       "      <td>16</td>\n",
       "      <td>3.40</td>\n",
       "      <td>SB</td>\n",
       "      <td>1658978004</td>\n",
       "    </tr>\n",
       "  </tbody>\n",
       "</table>\n",
       "<p>521 rows × 9 columns</p>\n",
       "</div>"
      ],
      "text/plain": [
       "           City      Lat       Lng  Max Temp  Humidity  Cloudiness  \\\n",
       "0        gurupi -11.7292  -49.0686     72.52        38           0   \n",
       "1         sinop  41.7711   34.8709     60.33        51           0   \n",
       "2        funtua  11.5233    7.3081     70.47        90         100   \n",
       "3        aykhal  66.0000  111.5000     81.46        59          28   \n",
       "4        kiunga  -6.1219  141.2906     80.37        88          81   \n",
       "..          ...      ...       ...       ...       ...         ...   \n",
       "516   namatanai  -3.6667  152.4333     85.10        67          74   \n",
       "517   kununurra -15.7667  128.7333     78.78        18           5   \n",
       "518      garowe   8.4054   48.4845     71.62        63          71   \n",
       "519  smoky lake  54.1169 -112.4686     70.12        65          19   \n",
       "520        auki  -8.7676  160.7034     86.54        62          16   \n",
       "\n",
       "     Wind Speed Country        Date  \n",
       "0          3.91      BR  1658977841  \n",
       "1          5.08      TR  1658977841  \n",
       "2          9.66      NG  1658977842  \n",
       "3         12.21      RU  1658977842  \n",
       "4          4.34      PG  1658977842  \n",
       "..          ...     ...         ...  \n",
       "516       12.68      PG  1658977943  \n",
       "517       13.80      AU  1658978003  \n",
       "518       24.40      SO  1658977904  \n",
       "519        4.45      CA  1658978004  \n",
       "520        3.40      SB  1658978004  \n",
       "\n",
       "[521 rows x 9 columns]"
      ]
     },
     "execution_count": 6,
     "metadata": {},
     "output_type": "execute_result"
    }
   ],
   "source": [
    "CityWeatherDF = pd.DataFrame(city_data)\n",
    "CityWeatherDF"
   ]
  },
  {
   "cell_type": "code",
   "execution_count": 7,
   "metadata": {},
   "outputs": [],
   "source": [
    "CityWeatherDF.to_csv(\"../output_data/Cities_Data.csv\", index = False)"
   ]
  },
  {
   "cell_type": "markdown",
   "metadata": {},
   "source": [
    "## Inspect the data and remove the cities where the humidity > 100%.\n",
    "----\n",
    "Skip this step if there are no cities that have humidity > 100%. "
   ]
  },
  {
   "cell_type": "code",
   "execution_count": 8,
   "metadata": {},
   "outputs": [
    {
     "data": {
      "text/html": [
       "<div>\n",
       "<style scoped>\n",
       "    .dataframe tbody tr th:only-of-type {\n",
       "        vertical-align: middle;\n",
       "    }\n",
       "\n",
       "    .dataframe tbody tr th {\n",
       "        vertical-align: top;\n",
       "    }\n",
       "\n",
       "    .dataframe thead th {\n",
       "        text-align: right;\n",
       "    }\n",
       "</style>\n",
       "<table border=\"1\" class=\"dataframe\">\n",
       "  <thead>\n",
       "    <tr style=\"text-align: right;\">\n",
       "      <th></th>\n",
       "      <th>Lat</th>\n",
       "      <th>Lng</th>\n",
       "      <th>Max Temp</th>\n",
       "      <th>Humidity</th>\n",
       "      <th>Cloudiness</th>\n",
       "      <th>Wind Speed</th>\n",
       "      <th>Date</th>\n",
       "    </tr>\n",
       "  </thead>\n",
       "  <tbody>\n",
       "    <tr>\n",
       "      <th>count</th>\n",
       "      <td>521.000000</td>\n",
       "      <td>521.000000</td>\n",
       "      <td>521.000000</td>\n",
       "      <td>521.000000</td>\n",
       "      <td>521.000000</td>\n",
       "      <td>521.000000</td>\n",
       "      <td>5.210000e+02</td>\n",
       "    </tr>\n",
       "    <tr>\n",
       "      <th>mean</th>\n",
       "      <td>20.042382</td>\n",
       "      <td>18.516235</td>\n",
       "      <td>69.525432</td>\n",
       "      <td>71.512476</td>\n",
       "      <td>53.272553</td>\n",
       "      <td>7.807582</td>\n",
       "      <td>1.658978e+09</td>\n",
       "    </tr>\n",
       "    <tr>\n",
       "      <th>std</th>\n",
       "      <td>33.491344</td>\n",
       "      <td>91.835937</td>\n",
       "      <td>13.058793</td>\n",
       "      <td>19.424319</td>\n",
       "      <td>38.909542</td>\n",
       "      <td>5.469323</td>\n",
       "      <td>7.952416e+01</td>\n",
       "    </tr>\n",
       "    <tr>\n",
       "      <th>min</th>\n",
       "      <td>-54.800000</td>\n",
       "      <td>-175.200000</td>\n",
       "      <td>33.820000</td>\n",
       "      <td>1.000000</td>\n",
       "      <td>0.000000</td>\n",
       "      <td>0.000000</td>\n",
       "      <td>1.658978e+09</td>\n",
       "    </tr>\n",
       "    <tr>\n",
       "      <th>25%</th>\n",
       "      <td>-8.897800</td>\n",
       "      <td>-63.903900</td>\n",
       "      <td>60.330000</td>\n",
       "      <td>62.000000</td>\n",
       "      <td>15.000000</td>\n",
       "      <td>3.600000</td>\n",
       "      <td>1.658978e+09</td>\n",
       "    </tr>\n",
       "    <tr>\n",
       "      <th>50%</th>\n",
       "      <td>22.678300</td>\n",
       "      <td>23.494000</td>\n",
       "      <td>71.220000</td>\n",
       "      <td>76.000000</td>\n",
       "      <td>59.000000</td>\n",
       "      <td>6.580000</td>\n",
       "      <td>1.658978e+09</td>\n",
       "    </tr>\n",
       "    <tr>\n",
       "      <th>75%</th>\n",
       "      <td>48.044800</td>\n",
       "      <td>96.166700</td>\n",
       "      <td>79.540000</td>\n",
       "      <td>86.000000</td>\n",
       "      <td>95.000000</td>\n",
       "      <td>11.180000</td>\n",
       "      <td>1.658978e+09</td>\n",
       "    </tr>\n",
       "    <tr>\n",
       "      <th>max</th>\n",
       "      <td>78.218600</td>\n",
       "      <td>179.316700</td>\n",
       "      <td>102.020000</td>\n",
       "      <td>100.000000</td>\n",
       "      <td>100.000000</td>\n",
       "      <td>30.180000</td>\n",
       "      <td>1.658978e+09</td>\n",
       "    </tr>\n",
       "  </tbody>\n",
       "</table>\n",
       "</div>"
      ],
      "text/plain": [
       "              Lat         Lng    Max Temp    Humidity  Cloudiness  Wind Speed  \\\n",
       "count  521.000000  521.000000  521.000000  521.000000  521.000000  521.000000   \n",
       "mean    20.042382   18.516235   69.525432   71.512476   53.272553    7.807582   \n",
       "std     33.491344   91.835937   13.058793   19.424319   38.909542    5.469323   \n",
       "min    -54.800000 -175.200000   33.820000    1.000000    0.000000    0.000000   \n",
       "25%     -8.897800  -63.903900   60.330000   62.000000   15.000000    3.600000   \n",
       "50%     22.678300   23.494000   71.220000   76.000000   59.000000    6.580000   \n",
       "75%     48.044800   96.166700   79.540000   86.000000   95.000000   11.180000   \n",
       "max     78.218600  179.316700  102.020000  100.000000  100.000000   30.180000   \n",
       "\n",
       "               Date  \n",
       "count  5.210000e+02  \n",
       "mean   1.658978e+09  \n",
       "std    7.952416e+01  \n",
       "min    1.658978e+09  \n",
       "25%    1.658978e+09  \n",
       "50%    1.658978e+09  \n",
       "75%    1.658978e+09  \n",
       "max    1.658978e+09  "
      ]
     },
     "execution_count": 8,
     "metadata": {},
     "output_type": "execute_result"
    }
   ],
   "source": [
    "CityWeatherDF.describe()"
   ]
  },
  {
   "cell_type": "code",
   "execution_count": 9,
   "metadata": {},
   "outputs": [
    {
     "data": {
      "text/html": [
       "<div>\n",
       "<style scoped>\n",
       "    .dataframe tbody tr th:only-of-type {\n",
       "        vertical-align: middle;\n",
       "    }\n",
       "\n",
       "    .dataframe tbody tr th {\n",
       "        vertical-align: top;\n",
       "    }\n",
       "\n",
       "    .dataframe thead th {\n",
       "        text-align: right;\n",
       "    }\n",
       "</style>\n",
       "<table border=\"1\" class=\"dataframe\">\n",
       "  <thead>\n",
       "    <tr style=\"text-align: right;\">\n",
       "      <th></th>\n",
       "      <th>City</th>\n",
       "      <th>Lat</th>\n",
       "      <th>Lng</th>\n",
       "      <th>Max Temp</th>\n",
       "      <th>Humidity</th>\n",
       "      <th>Cloudiness</th>\n",
       "      <th>Wind Speed</th>\n",
       "      <th>Country</th>\n",
       "      <th>Date</th>\n",
       "    </tr>\n",
       "  </thead>\n",
       "  <tbody>\n",
       "  </tbody>\n",
       "</table>\n",
       "</div>"
      ],
      "text/plain": [
       "Empty DataFrame\n",
       "Columns: [City, Lat, Lng, Max Temp, Humidity, Cloudiness, Wind Speed, Country, Date]\n",
       "Index: []"
      ]
     },
     "execution_count": 9,
     "metadata": {},
     "output_type": "execute_result"
    }
   ],
   "source": [
    "highHumidityDF = CityWeatherDF[(CityWeatherDF['Humidity'] > 100)]\n",
    "highHumidityDF"
   ]
  },
  {
   "cell_type": "code",
   "execution_count": 10,
   "metadata": {},
   "outputs": [
    {
     "data": {
      "text/plain": [
       "' Not applicable '"
      ]
     },
     "execution_count": 10,
     "metadata": {},
     "output_type": "execute_result"
    }
   ],
   "source": [
    " #  Get the indices of cities that have humidity over 100%.\n",
    "\n",
    "\"\"\" Not applicable \"\"\""
   ]
  },
  {
   "cell_type": "code",
   "execution_count": 11,
   "metadata": {},
   "outputs": [],
   "source": [
    "# Make a new DataFrame equal to the city data to drop all humidity outliers by index.\n",
    "# Passing \"inplace=False\" will make a copy of the city_data DataFrame, which we call \"clean_city_data\"."
   ]
  },
  {
   "cell_type": "markdown",
   "metadata": {},
   "source": [
    "## Plotting the Data\n",
    "* Use proper labeling of the plots using plot titles (including date of analysis) and axes labels.\n",
    "* Save the plotted figures as .pngs."
   ]
  },
  {
   "cell_type": "markdown",
   "metadata": {},
   "source": [
    "## Latitude vs. Temperature Plot"
   ]
  },
  {
   "cell_type": "code",
   "execution_count": 12,
   "metadata": {},
   "outputs": [
    {
     "data": {
      "image/png": "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\n",
      "text/plain": [
       "<Figure size 576x432 with 1 Axes>"
      ]
     },
     "metadata": {
      "needs_background": "light"
     },
     "output_type": "display_data"
    }
   ],
   "source": [
    "latitude = CityWeatherDF[\"Lat\"]\n",
    "max_temp = CityWeatherDF[\"Max Temp\"]\n",
    "\n",
    "plt.figure(figsize=(8,6))\n",
    " \n",
    "plt.scatter(latitude, max_temp, linewidths=1, marker=\"o\", color = \"magenta\")\n",
    " \n",
    "# Creates labels and grid for graph\n",
    "plt.title(\"City Latitude vs. Max Temperature (%s)\" % time.strftime(\"%x\"))\n",
    "plt.xlabel(\"Latitude\")\n",
    "plt.ylabel(\"Max Temperature (F)\")\n",
    "plt.grid(True)\n",
    " \n",
    "plt.savefig(\"../Images/lat_temp.png\")\n",
    "\n",
    "plt.show()\n"
   ]
  },
  {
   "cell_type": "markdown",
   "metadata": {},
   "source": [
    "## Latitude vs. Humidity Plot"
   ]
  },
  {
   "cell_type": "code",
   "execution_count": 13,
   "metadata": {},
   "outputs": [
    {
     "data": {
      "image/png": "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\n",
      "text/plain": [
       "<Figure size 576x432 with 1 Axes>"
      ]
     },
     "metadata": {
      "needs_background": "light"
     },
     "output_type": "display_data"
    }
   ],
   "source": [
    "latitude = CityWeatherDF[\"Lat\"]\n",
    "humidity = CityWeatherDF[\"Humidity\"]\n",
    "\n",
    "plt.figure(figsize=(8,6))\n",
    " \n",
    "plt.scatter(latitude, humidity, linewidths=1, marker=\"o\", color = \"green\")\n",
    " \n",
    "# Creates labels and grid for graph\n",
    "plt.title(\"City Latitude vs. Humidity (%s)\" % time.strftime(\"%x\"))\n",
    "plt.xlabel(\"Latitude\")\n",
    "plt.ylabel(\"Humidity (%)\")\n",
    "plt.grid(True)\n",
    " \n",
    "plt.savefig(\"../Images/lat_hum.png\")\n",
    "\n",
    "plt.show()\n"
   ]
  },
  {
   "cell_type": "markdown",
   "metadata": {},
   "source": [
    "## Latitude vs. Cloudiness Plot"
   ]
  },
  {
   "cell_type": "code",
   "execution_count": 14,
   "metadata": {},
   "outputs": [
    {
     "data": {
      "image/png": "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\n",
      "text/plain": [
       "<Figure size 576x432 with 1 Axes>"
      ]
     },
     "metadata": {
      "needs_background": "light"
     },
     "output_type": "display_data"
    }
   ],
   "source": [
    "latitude = CityWeatherDF[\"Lat\"]\n",
    "cloudiness = CityWeatherDF[\"Cloudiness\"]\n",
    "\n",
    "plt.figure(figsize=(8,6))\n",
    " \n",
    "plt.scatter(latitude, cloudiness, linewidths=1, marker=\"o\", color = \"teal\")\n",
    " \n",
    "plt.title(\"City Latitude vs. Cloudiness (%s)\" % time.strftime(\"%x\"))\n",
    "plt.xlabel(\"Latitude\")\n",
    "plt.ylabel(\"Cloudiness (%)\")\n",
    "plt.grid(True)\n",
    "\n",
    "plt.savefig(\"../Images/lat_cloud.png\")\n",
    "\n",
    "plt.show()"
   ]
  },
  {
   "cell_type": "markdown",
   "metadata": {},
   "source": [
    "## Latitude vs. Wind Speed Plot"
   ]
  },
  {
   "cell_type": "code",
   "execution_count": 15,
   "metadata": {},
   "outputs": [
    {
     "data": {
      "image/png": "iVBORw0KGgoAAAANSUhEUgAAAe4AAAGDCAYAAADtffPSAAAAOXRFWHRTb2Z0d2FyZQBNYXRwbG90bGliIHZlcnNpb24zLjUuMSwgaHR0cHM6Ly9tYXRwbG90bGliLm9yZy/YYfK9AAAACXBIWXMAAAsTAAALEwEAmpwYAABXm0lEQVR4nO29e7wfVXX3/1k5yRHCQTEHjFzMiVq0KnhpqJd6I0Ys0nqt9uKRRuvzRIO1tNr2QVN/xcdfWh8bUWK1FCs1ek5N1WhFS6uU54j3C6FooFSxmCCIFxJQQqiBZD1/7BnOnDmzZ/bM7D237+f9es3rnO/MfOe79mX22nuvtdcWVQUhhBBC+sGStgUghBBCiDtU3IQQQkiPoOImhBBCegQVNyGEENIjqLgJIYSQHkHFTQghhPQIKm4SHBF5k4j8XdtypPEtl4icLyIzvp7XJCKySkT2i8hYxe/vFpFn+5bLJ0XlIyL3E5H/EJEHNylX04jI10XkMW3LQapDxU28ICIvE5Grosb/VhH5FxF5GgCo6l+o6v+I7lstIioiSyv+zitE5IsVvne6iNycPOdTrq4hIr8jIv+ROne55dx5qnqTqk6o6qEAspwkIjtE5DYR+amI7BKRV/j+HQ9sAPB5Vf0hAIjh/4jI3uh4u4hIdC3u6CQPFZE3JB8oIheLyAYR+TUR+aKI3CEiPxSR94nI0Yn7rks9614R+VTqWS8TkX8QkUeIyCdF5Ccisk9EPiMij0zct15EdorIz0Tk5kjuZL3eAuB/B8g/0hBU3KQ2IvJ6AO8C8BcAVgJYBeC9AF7QolijzpUAHiUixwFA1HA/DsDy1LmnAPh8YFk+BOD7AKYATAL4XQA/CvybVXg1jKwxGwC8ECbfHgvg16N7kOjoTKjqBIBTARwGsCP1zDMBXAbgAQD+fwAnAHgUgJMA/FV8k6o+JvGsowHcBOCjqWedFT3rGACXAngkzPv2dQCfTNy3HMAfAjgWwJMArAPwx4nrlwJYKyLHF2cJ6SSqyoNH5QOmQdoP4KU595wPYCb6/yYAGn1nP4BnAtgH4NTE/Q8CcDeA4zKe9QoAX7T8zisBXA/gTgA3Anh1dP6o6HmHE797QoFcT0lej+5ZHd2zNPr8UBgFeSeAywH8der+JwP4MoA7AHwTwOkWuc8D8LHUuQsBbE2k+cbod74HYNqxbP4LwG9E/z8RwByAbalzBwCMZ6TtcwDeCuBL0e9+FsCxiWefDWAPgL0ANgHYDeDZFjn2A3i85Vr8uxsA/ADArQDekLi+JMqf/4p+6yMAVrjkcVH5pORYFdWRpYlzXwawIfH5VQC+avn+nwOYS517LIBvWe5/MYBdlmvPjPLsqFQ+/ChZBolrK6I8nLQ87/UAPpU6dzmA9SHaBB7hD464SV2eAuAIAJ9wvP8Z0d9j1IwwrgSwHcDLE/f8DoB/U9WflJTlxzCjovvDKPF3isgvqepdAJ4L4Ac6P0r6QYFcX3H4vX8AsBNmZPNWAOvjCyJyIoB/hhllrYAZ8eyIR7spPgzgLBG5f/TdMQC/CeAfROQoAFsBPFdVjwbwKwCucZANMCPpOF3PAPAFAF9Mnfuqqh60fP9lMPn4IBjl/seRfI8G8DcwyvsEmFH0STlyfBXAe0Tkt0VkleWetQBOBvAcAOcl7OV/ADPqfWb0W7cDeE8kR1EeW8sng1MB3Kiq9ybOPQamMxDzzehcFr8L0ylKclYkXxbPAHCd5dp6mI7cXYlzT4zku83yrB+q6t4Sv3U9zEwC6SFU3KQukwBuSzV4ZdkG4GUiEtfHs7FwytIJVf1nVf0vNVwJM0p8eg25rEQK6JcBvFlVf66qnweQtEm+HMBlqnqZqh5W1csBXAXTmKfl3gPgahgFBQDPAnBAVb8afT4M4BQROVJVb1VVW4Of5krMK+mnwyjuL6TOXZnz/b9X1e+o6t0wI93HR+dfAuDTqvp5Vf05gDdHMtp4afS7bwbwPRG5RkR+OXXPW1T1LlXdBeDvYTpvgJma3qSqN0e/dT6Al0TT/NY8diifNMfAjMyTTAD4aeLzTwFMxHbuGBF5OsyU9cdS3/81mKltpO4/A0Y5/38Z15bD5O8HHJ91EkxH5vXpa9H1VwI4DcauneROmDSTHkLFTeqyF8CxdZy6VPVrAO4C8EwR+UUAvwBjhyuFiDxXRL4aOezcAaMkj60qVwEnALg9NSrak/h/CsBLI2ekOyJ5ngbAZlf8B8wrq5dFnxE9/7cAvAbArSLyz1EeufB5AI8VkQfCTCl/RVX/E8Dx0bmnId++/cPE/wdgFBlg0v79+EIko220B1W9XVXPU9XHwCi4awD8U0oBfj/x/57oNwCTj59I5OH1AA5Fz8nL46LySXM7jG05yX6Y2ZuY+wPYr6rpnZnWA9ihqvvjEyJyDIBfhJluR+L8k2HK9iWq+p0MOV4MYzpKd6hi+3byWcfBdE7fq6ofTj9IRF4I4G0wszXpkfrRMOYF0kOouEldvgLgvzE/WizCth3dNpgR1Nkw04T/XUYIEbkfjGPQFgArVfUYmIYuVg5F2+BlXb8LxtEnJrlM6FYAD4ymsmOS08DfB/AhVT0mcRylqm+z/P5HAZwejaBehEhxA4CqfkZVz4BRSP8J4H0FaYm/dyOM3XgDgJsSiuUr0bkJmGnsstwK4CHxh2iUOOko020wZXQCzPR2zEMS/6+K5AZMPj43lY9HqOotyM/jovJJ8y0AD0t1QK/DwunkxyE15SwiR8LMKKSnyX8VwBWa8NIXkSfAdEh/T1WvsMixHsAHk50DMcvTjoeZlYnPPRBGaV+qqpvTDxGRM2HqyfOiWYw0j8JCMwDpEVTcpBaq+lOYKb/3iMgLRWS5iCyLRr9vz/jKT2CmVR+WOv8hGIX1cgAfLPhZEZEjkgeMDfZ+0fPvFZHnwthLY34EYFJEHmB5ZpZc1wB4RrT05wEA3phI9x6Yadm3iMi4mKVvz0t8dwbA80TkV0VkLJIzVsyLiOz5n4OZJv6eql4fJXSliDw/UkA/hxkFllmy9QWYadQvJM59MTp3VTQNXpaPAfh1EXmaiIzDLC2ytiVillSdIiJLoyVQGwF8N2WTfXNUdx4DY1f/x+j8RQA2i8hU9KzjRCRerWDNY4fyWYCq3gzgBhhbcswHAbxeRE4UkRMAvAGLp7BfBDNynUudXzC1LSKnAPhXAK9T1cwp+6hurEW2rfxfY2Ue+UJ8BsCXVPW8jOc8C8AsjBPi1zOu3w/AGhgHNdJDqLhJbVT1AhhF8GcwCvD7AH4fwD9l3HsAwGYAX4qmN58cnb8ZZkShWKhksvgVGA/g9PEHMLbY22Gmm++bbo+miD8M4Mbod09IPjBLrshm+o8wo7GdAD6dkuNlMMtt9sF4FX8w8bzvwyyHe1MiT/4E+e/cPwB4NhKj7ej+N8CMQPfBOGmdAxjbqojsTz8kxZUwzmXJte9fiM5VWgYW2dhfG8l5K0x+35zzleUwzot3wHjHTwF4foac3wVwBYAtqvrZ6PyFMOX4WRG5E2aG4EmRHEV5bC0fC38LM+OT/PwpALsAXAvjaPa3qe9kjZAFwBkwijrmDQCOA/B+mV+rnfZVOBvGnPFfqfPpafIXwdjvXykL137HMwpvhlntcVni2r8kvv98AJ/LcNAkPUEWm2sIaQcRuQTG8/vP2paFNIOIrIZZ4raspoOjD1nuB+DfAaxT1VtrPOeJAP5aVZ9YeHPxs5bC+Bo8PJrdqo2IfA3Aq1T1Wh/PI80ziChRpP9EDfiLATyhZVHIiBJ5rT/a0+P+3NNzVsB4xntR2gCgqk/y9SzSDhxxk9YRkbcC+CMAf5nlaEOGS5dG3IT0BSpuQgghpEfQOY0QQgjpEVTchBBCSI/ohXPascceq6tXr77v81133YWjjjrK/oUBwjSPBkzzaMA0jwZ10rxz587bVDVrb4N+KO7Vq1fjqquuuu/z5z73OZx++untCdQCTPNowDSPBkzzaFAnzSJiDdHLqXJCCCGkR1BxE0IIIT2CipsQQgjpEVTchBBCSI+g4iaEEEJ6BBU3IYQQ0iOouAkhhJAeQcVNCCGE9AgqbkIIIaRHUHETQlpndhZYvRpYssT8nZ1tWyJCuksvQp4SQobLvn3Ahg3AgQPm85495jMATE+3JxchXSXYiFtEjhCRr4vIN0XkOhF5S3R+hYhcLiI3RH8fGEoGQkj3ueWWeaUdc+AAsGlTO/IQ0nVCTpX/HMCzVPVxAB4P4EwReTKA8wBcoaonA7gi+kwIGVEOHsw+f9NNzcpBSF8IprjVsD/6uCw6FMALAGyLzm8D8MJQMhBCus/4ePb5VaualYOQviCqGu7hImMAdgL4BQDvUdX/JSJ3qOoxiXtuV9VF0+UisgHABgBYuXLlmu3bt993bf/+/ZiYmAgmdxdhmkeDUUzzHXfsx/e+N4HDh+fPLVkCTE0BK1a0J1dIRrGcmeZyrF27dqeqnpZ5UVWDHwCOATAH4BQAd6Su3V70/TVr1miSubk5HTWY5tFgVNM8M6M6NaUqYv7OzLQtVVhGtZxHjTppBnCVWnRiI17lqnqHiHwOwJkAfiQix6vqrSJyPIAfNyEDIaS7TE/Tg5wQV0J6lR8nIsdE/x8J4NkA/hPApQDWR7etB/DJUDIQQgghQyPkiPt4ANsiO/cSAB9R1U+LyFcAfEREXgXgJgAvDSgDIYQQMiiCKW5V/RaAJ2Sc3wtgXajfJYQQQoYMQ54SQgghPYKKmxBCCOkRVNyEEEJIj6DiJoQQQnoEFTchhBDSI6i4CSGEkB5BxU0IIYT0CCpuQgghpEdQcRNCCCE9goqbEEII6RFU3IQQQkiPoOImhBBCegQVNyGEENIjqLgJIYSQHkHFTQghhPQIKm5CCCGkR1BxE0IIIT2CipsQQgjpEVTchBBCSI+g4iaEEEJ6BBU3IYQQ0iOouAkhhJAeQcVNCCGE9AgqbkIIIaRHUHETQhYwOwusXg0sWWL+zs62LREhJMnStgUghHSH2VlgwwbgwAHzec8e8xkApqfbk4sQMs/Ij7g5uiBknk2b5pV2zIED5nwf4ftNhshIj7g5uiBkITfdVO58l+H7TYbKSI+4hza6IKQuq1aVO99l+H6ToTLSintIowtCfLB5M7B8+cJzy5eb832D7zcZKiOtuIc0uiDEB9PTwMUXA1NTgIj5e/HF/Zxa5vtNhspIK+4hjS5GFTof+Wd6Gti9Gzh82Pzto9IG+H6T4TLSintIo4tRJHY+2rMHUJ13PqLyJgDfbzJcRtqrHDAvMV/kfnLuuXbnI5YpAfh+k2Ey0iNu0l9mZ4G9e7Ov0fmIEDJkqLhJL8lb0kPnI0LIkKHiJr0kb1RN5yNCyJCh4ia9xDaqnpykTZMQMmyouEkvsS31ufDCduQhhJCmoOImvYRLfQgho0owxS0iDxGRORG5XkSuE5Fzo/Pni8gtInJNdJwVSgYybIYSKKQtGLyGkH4Sch33vQDeoKpXi8jRAHaKyOXRtXeq6paAv00IyYE7ZxHSX4KNuFX1VlW9Ovr/TgDXAzgx1O8RQtzhzlmE9BdR1fA/IrIawOcBnALg9QBeAeBnAK6CGZXfnvGdDQA2AMDKlSvXbN++/b5r+/fvx8TERHC5uwTTPBo0leadO+3X1qwJ/vMLYDmPBkxzOdauXbtTVU/LvKiqQQ8AEwB2Anhx9HklgDGY0f5mAJcUPWPNmjWaZG5uTkcNpnk0aCrNU1OqJsL7wmNqqpGfXwDLeTRgmssB4Cq16MSgXuUisgzADgCzqvrxqKPwI1U9pKqHAbwPwBNDykAIWQx3ziKkv4T0KhcA7wdwvapekDh/fOK2FwG4NpQMhJCFxJ7kZ58NHHmkCVjD5XSE9IuQXuVPBXA2gF0ick107k0AfkdEHg9AAewG8OqAMhBCItKe5Hv3mlH2hz5EhU1InwimuFX1iwAk49JloX6TEGInz5OcipuQ/sDIaYSMCLaNWbgNKiH9goqbkBHBtjELt0ElpF9QcZNGYZjN9qAnOSHDgIqbNEbsHLVnj1k1HIfZpPJuBm7MQsgwoOImjdGXMJtDnhXgxiyE9J+Qy8EIWUAfnKO4+QYhpOtwxE0aow/OUX2ZFSCEjC5U3KQx+uAc1YdZAULIaEPFTRqjD85RfZgVIISMNlTcpFG67hzVh1kBQshoQ8VNSII+zAoQQkYbKm5CUnR9VmCIDHkJHiG+4XIwQkir7NvHJXiElIEjbkJIq9xyC5fgEVIGKm5CSKscPJh9nkvwCMmGipsQ0irj49nnuQSPkGyouAkhrXLiiVyCR0gZqLgJIa2yYgWX4BFSBnqVE0JaZ3qaipoQVzjiJoQMCq4JJ0OHI25CyGDgtqxkFOCImxAyGLgtKxkFqLgJIYOhC9uycqqehIaKmxAyGNreljWeqt+zB1Cdn6qn8iY+oeImhAyGtrdl5VQ9aQIqbkLIYGh7W9YuTNWT4UOvckLIoGhzTfiqVWZ6POs8Ib7giJuQmtAZicS0PVU/FPhO5UPFTUgN6IxEkrQ9VT8EQr1TQ+oMUHETUgM6I5E009PA7t3A4cPmL5V2OUK8U0PrYFNxE1IDOiMR4pcQ79TQOthU3ITUoO11w4QMjRDv1NA62FTchNSAzkiE+CXEOzW0DjYVNyE1oDMSIX4J8U4NrYPNddyE1IR7SRPiF9/vVPysTZvM9PiqVUZp9/W9peImhBAyeIbUweZUOSGEENIjqLgJIYSQHkHFTQghhPQIKm5CCCGkRwRT3CLyEBGZE5HrReQ6ETk3Or9CRC4XkRuivw8MJQMhhBAyNEKOuO8F8AZVfRSAJwN4rYg8GsB5AK5Q1ZMBXBF9JoQQQogDwRS3qt6qqldH/98J4HoAJwJ4AYBt0W3bALwwlAyEEELI0BBVDf8jIqsBfB7AKQBuUtVjEtduV9VF0+UisgHABgBYuXLlmu3bt993bf/+/ZiYmAgsdbdgmkcDpnk0YJpHgzppXrt27U5VPS3zoqoGPQBMANgJ4MXR5ztS128vesaaNWs0ydzcnI4aTPNowDSPBkzzaFAnzQCuUotODOpVLiLLAOwAMKuqH49O/0hEjo+uHw/gxyFlIMNldhZYvRpYssT87eveun2B+U2agPWsmJBe5QLg/QCuV9ULEpcuBbA++n89gE+GkoEsZigvxewssGEDsGcPoGr+btjQ3/R0HeY3aQLWMzdCjrifCuBsAM8SkWui4ywAbwNwhojcAOCM6DNpgCG9FJs2AQcOLDx34IA5X5e4cyMCLF1q/va5k+ODkPlNSAzrmRshvcq/qKqiqo9V1cdHx2WquldV16nqydHffaFkIAsZ0ktx003lzruS7NwAwKFD5m+fOzk+CJXfpBt0ZSaO9cwNRk4bIYb0UqxaVe68K1mdm5i+dnJ8ECq/Sft0aSaO9cyNXMUtIkeIyEtE5EIR+aiIfFBE/lREHtOUgMQfQ3opNm8Gli9feG75cnO+DkWdmD52cnwQKr9J+3RpJo71zA2r4haR8wF8CcBTAHwNwN8C+AhMRLS3ReFKH9uEkMQPQ3oppqeBiy8GpqaMDXpqynyuu99uUSemj50cH4TKb9I+XZqJYz1zY2nOtW+o6vmWaxeIyIMAjGgz1k/iyr9pk3kpV60ySruvL8X0tH/ZN28204RZ0+V97eT4IkR+k/ZZtWrepyN9vg1Yz4qxjrhV9Z/zvqiqP1bVq/yLREIyPQ3s3g0cPmz+8gVZSNzjn5xceH5ykj1/MkyGNBM3KuSNuAEAIvIIAH8CYCp5v6o+K6BchLTK3XfnfyZkKAxtJm4UKFTcAD4K4CIA7wNwKKw4hLRPnrMOGzMyRDg93S9cloPdq6p/o6pfV9Wd8RFcsgB0Za0i6TZdctYhfhiVd39U0jnqWEfcIrIi+vdTInIOgE8A+Hl8vW+BU+K1ivFIKl6rCLCnSRbSNWcdUo9RefdHJZ0kf8S9E8BVMPHE/wTAl6Nz8fle0aW1iqTb0FlnWIzKuz8q6ST5XuUPVdWHRX/Tx8OaFNIHnP4krnAt6bAYlXd/6OmkGWAeF6/yIwCcA+BpABTAFwBcpKr/HVg2r3D6k5SBzjrDYVTe/SGnk2aAhbg4p30QwGMAvBvAXwN4NIAPhRQqBJz+JG3DEUM7jMq7P+R00gywEJflYI9U1cclPs+JyDdDCRQKrlUkbcIRQ3uMyrsfp+fcc4G9e83/Rx7Znjw+GboZoCwuI+5/F5Enxx9E5EkwMcx7B6OGkbbgiKFdRundTwYL2rt3GNvRDmmDJB+4KO4nAfiyiOwWkd0AvgLgmSKyS0S+FVQ6QgYCRwykCYbaQRyyGaAKLlPlZwaXgpCBM2THIdIdhtpBHBVzhyuFI25V3QPgZwAeAGAyPlR1T3SN9AQ6R7UHRwykCYY8pTxK5o4iChW3iLwVwLcAbAXwjujYElgu4pnYOWrPHkB13jmKyrsZuDacNEHfO4h9HFy0IbPLVPlvAni4qh4MLQwJBzfOaB+uDSeh6fOUch9XXrQls4tz2rUAjgknAmmCodq+CCEL6euUch8d69qS2WXE/ZcwS8KuxcJNRp4fTCriHTpHEUK6TB8HF23J7KK4twH4PwB2ATgcVhwSis2bF07pAP2yfRFChk0fBxdtyewyVX6bqm5V1TlVvTI+wopFfNMV56g8R470tX292jiWEFKHPjrWtSWzy4h7p4j8JYBLsXCq/OpgUpEgtO0clefIAQCvfCVwzz3z13bvNt/pi42OEFKdPjrWtSWzi+J+QvT3yYlzCuBZ/sUhQybPkWP//nmlHaNq4i53+cUlhPij7cFFFdqQuVBxq+raJgQhwyfPkUM1+1q8WQIhhBCD1cYtIi8XkbzrDxeRp4URi9Sli4EMhhzViRBCmiLPOW0SZhnYJSLyWhH5TRH5XRH53yJyJYC3A/hRM2KSMnQ1SlqeI8fkZPZ3bOfJaNDFDighbWNV3Kp6IYBfAvBhAMcBWBd9vgXA2ar6G6p6QyNSklJ0NZBBnmf7hRcC4+ML7xcx58lo0tUOKCFtk7scTFUPqerlqnq+qr5aVf9QVf9WVTu8JJ50OZCBLarT9DRwySULlfrq1f1zVCF+mJ0F1q/vZgc0hrMBpC1c1nGTDpLXaPTVlpxW6itWtC0RaYN4pH3oUPb1LnRAORtA2oSKu4cUNRqhggJwhEGaIMvUk6QLHdCumqPIaEDF3UOKGo0QUdI4wiBNkTei7kokrS6bo8jwcdmP+1wRub8Y3i8iV4vIc5oQjmTj0mj43iGIIwzSFLYR9dhYtQ5oiJmivpqj+jZr1jd5m8JlxP17qvozAM+B8S5/JYC3BZVqBKhTIdtoNEKPMPiCkpgsU4+ImeGporRDzBT1Ma5232bN+iZvk7gobon+ngXg71X1m4lzpAJ1K2QbjUbIzoItP7jJyGgyPW08yiXRyqgC27aVb7RDzRR1ZdOeMvRt1qxv8jaJi+LeKSKfhVHcnxGRo8HtPWtRt0K20WiE7CzY8uOWW+o/m/STyy5bHAa3SqOdteUi4GemyLc5KjR9s8v3Td4mcdlk5FUAHg/gRlU9ICIrYKbLSUV8VMimA9uH3AXHlu6DB+s/m/QTH+/I7Kzp2GbFwe+6LToEfdvvum/yNonLiPspAL6tqneIyMsB/BmAn4YVa9iEmHZuwkYcaoRhS3c6khoZHXy8I5s2ZSttkW7bokPRN7t83+RtEhfF/TcADojI4wD8KYA9AD5Y9KUoxvmPReTaxLnzReQWEbkmOs6qLHmP8V0hbTbic87ph8OXLT9OPLEdeUj7+HhHbKNz1e5Pa4egb3b5vsnbJC6K+15VVQAvAHBhFMP8aIfvfQDAmRnn36mqj4+Oy9xFHQ6+K6TNRnzRRf3wyIydkcbGzOexMfOZkdNGj3jm6OyzgSOPNJvMVH1HbKPzqSkvoi6i7ZURLr+fnjUDut25rzrL13ZZBEdVcw8AVwJ4I4AbADwYwBiAXUXfi767GsC1ic/nA/hjl+8mjzVr1miSubk5HTXy0iyiatRz8TE11ZjIzszMqC5fvlDO5ctVd+yYa1u0xskq55kZU26A6tjYfDnOzDQtXRjiNNvqQdV0+n6ez9/y3YZVSWuT+aPaXLvddLryqJNmAFepRSe6jLh/C8DPYdZz/xDAiQD+qkZf4fdF5FvRVPoDazyHRJSx+3XRI5Ne5XaSZhBgPn53l2dQquJ7+U/Vma0qo7W2ly5V+f22ZQ7FUNOVRDTLeyN9k8gUgJNV9d9EZDmAMVW90+F7qwF8WlVPiT6vBHAbAAXwVgDHq+rvWb67AcAGAFi5cuWa7du333dt//79mJiYKJR7SOSled8+05AfdlikNz4OnHqqZ+FqsnNn9vmTTtqPlStHu5x37cr3ru9ieZYlTrOtHgDAmjXNyJL1Li1ZYpR+nummrOy+27Aqedd0fjfVbnehHsXUSfPatWt3quppmRdtQ/H4APA/AXwDwH9Fn08GcEXR9zRjqtz1WvrgVHlxmuPpVBHzd+PG7kwXFRFPA6ePrVvn2hatcdLlXGQGEWlHTp/EabbVgybNO1VlKPs9321YFbmbzu88M1Dcbvlon7pQj2LanCp/LYCnAvhZpOhvAPCgKj0IETk+8fFFAK613UvKkXbieO97++ORSa9yO0VmkCGtae3C8p+q68fblr3K77ctM8PRVsdFcf9cVe+brBORpTBT3bmIyIcBfAXAI0XkZhF5FYC3i8guEfkWgLUA/qii3MSBtiI7lbUR2myR9CrPboRihtYYdWH5T9X1423LXuX325aZ4WhrYBuKxweAtwN4E4D/BHAGgE8A2Fz0PZ8Hp8qbm2aqi0+PTpazYVS8ypvE9u405ZHMum03Aw3B/BMTaqrcJeTpeTBhT3cBeDWAywD8XYhOBHEnnmaKe6zxNBPQbs8yrxc9qB5vgzQd3nbouLw7IUL7koUwpGl1CqfKVfWwqr5PVV+qqi+J/i92RSdB8T3N5CtgATcGIF2n6N3p2+YhTeIzsEmTtuihBWQpVNwi8lQRuVxEviMiN4rI90TkxiaEI3Z8KkifTiJ5NsKhvTw+SOcJtzINDzuX1fDtTNaULXqI+3q7OKe9H8AFAJ4G4JcBnBb9JS3iU0HaRiDnnlteLlsv+hd+wYSxDPXypNPchzjtWQ3Knj3mPDs54Qi5t3zMEMuvyixfMh927VqcD03MbtjkXr++x+ViM37HB4CvFd0T+qBz2uI025xoqqzfzlsrXMUpJ2tNue038tZWupZzVl6kjy6uYc9ab7ply5xOTjbjINUV58am3+fQDmguz+9jG1bWmSydD1u2zLXyHua1b6HlCeWc5qK43wYT4vQpAH4pPoq+5/Og4nb3KvcZiMFX0IK85+d5kLqWc97z2w7AkEdWg7Jly1wj8g8lnnNVQnZaXN7BPrZhZduW9P1x3W76PSxqH0LK02YAlifBTI//BYB3RMcW70N/UpqsaaYq9rs8ZxAfdr+8Z/iYnnSVsWs2zLJp9yn/KMRzziPkFO1Qbehlncm6kg95sRCAeXn6ZN5w8Spfm3E8qwnhSHmq2O+mp832iWW/V1cmET8epK4y+l5mUvdFL2pQ0vh08OtKozpEmrCht0FZZ7Ku5EMsd7xtcJY8fXNgsypuEXl59Pf1WUdzIpIyVF1iceGF4ZZmZMkkArzmNX5GOi4K0PcyEx8verohzGP5cuCss5rx/h91QnTIhhLlrsxMRYh8KCob2/XpaWDbNrs8vZuBss2hA3h19PfPsw7b90IctHGXS3NV+11Iu1+VZ9dJ88aNYR2vQmxkMDWVbeMeG6vuv2Bj1G3cNnzlS159n5kxG+i07RSYh6+2IPmcrVvnaqW1qGxcys6WrlBR3FpzTuvCQcU9WmmOX64tW+Y627BVfdGLGvQLLpizNjy+G5dR9SrPI/TOUrFySXbQurbiIVSnrm45F5VNnbILVe6NhzwVka0FI/U/8DToJ+Q+uhrKNU2VcI1FaZueBj7+cTN1nhVu03eISIZSXUxo238fQgJ3VcaisqlTdps3L3w3gW6bN/Kc03ZGxxEwS8BuiI7HAzgUXDIShK57TvbF1lTFfueSthUr7DbEIdtOgW7UzdC2/z44BXZVxqKyqVN2fdtRzKq4VXWbqm4DcDKAtar6blV9N4B1MMqb9Iw+eE52tdFIU+VFr5u2vjUuZehK3QzdOeqDU2BXZSwqm7pl16cY9S7ruE8AcHTi80R0jvSMPoxmu9poZFH0oqdHkLb9xcukrU+NSxlC1U1fe8P7yuc+zJp0VcaishlyxzaNi+J+G4B/F5EPiMgHAFwNE4yFeKDJ6cE+jGa72miUJWsEeeedwLJlC+/rY9pCEKJuVh3F53WO6r6vsXIZHy+nXJpsJ1wUYBPyzM4CExNGBhGzDvtLX8rvuA61Y7sIm9da8gDwYAAviI4Hu3zH5zFUr/Iy3pt10py3lKiLoUD74FVehC2/JyfzPbmHUrfLMDc3F2x5nc9n2mLiT06Wr6Nllzp2ZeleHXnKpnnJkuzy27ixnvxN0lrIUxF5BoBHALg9Oh4RnSM1aWLqOjnqyKKLI76417xmTX97zbaR4r59IzIiKEmImRbfo/is9xUA9u4Na4/vmomrCXk2bTLvSBYXX7zwc97ovwsOjyFwmSr/k8TxZgCfAnB+QJlGhiamrm2NDTBsG1DbhLLVD7UhCmGf9F0Gee9lSEXaNRNXE/LkPetQYk1TnjmkKw6PIXCJVf68xHEGgFMA/Ci8aMOnCUcs2wsgwhFfSMqMIIv2LE7eN9SGCPBvn/Q9ii96L0Mp0q45bDYhT9Gz4o7ruefaR/9dm6nwicuIO83NMMqbZFBmRNSEI5bNk9l23idDHR264DqCTCvjgwftynjIDVEIfI/ii2Lih1KkXXPYbEKezZtNu2Ej7rju3Zt9/aabujdT4RMXG/e7RWRrdPw1gC8A+GZ40fpH2RHRkJcvDH106ILLCLKMMh5yQxQKn6P4+H2dmMi+ftZZ1Z9dxJFHzv8/OQmsX2/qSBud4jLtlstsUlYHf3oa+OAHgaOOqibjqlXdm6nwis1rLT4ArE8c0wCeWvQd30dfvMpDxjmumuZQwfOL8JEXXS1nn6TLJ45hnVU+oeNot0XfyrnJup3lwT0+rrpsWXe8zG2kZd+yZW6RnBs3Ln4HbGmxtWXpY/ly89zJyexrTeZTa17laqKnfRgm/Ok3AXw9WC+i53RxRNRWr7OLedFFypRP16ZMR5Um63bWjMzBg8A99yw810WTSdFs0uwscNFFRqXa7kmS12bF2+JOTZnZiG3bFk+jT04OZ0bTZar8dJgY5e8B8F4A3+FysGy6ODXTVmPfxbzoImXKZ8imlS7g6pPRZN0u0xnoWqe4qIOzadNipZ333TwfA1XzPuzeDVx2WfZKmomJ4bwrLs5p7wDwHFV9pqo+A8CvAnhnWLH6SRdHRG019l3Miy6SLp/x8fzyGZnIUA1TxiejybpdpjPQtU5xUQcnr6OR9d34XbHhY5ewvuCiuJep6rfjD6r6HQDLcu4fWbo6ImqjsfeVF015pvv4narPSJbPqae2X19GhWR5rV/v7iToo27v2+dWV7I6CePj/QidW9TBsSl2EfuyyTxzgI9dwnqDzfgdHwAuAfB+AKdHx/sA/H3R93wefXFOC8kopnnHjrlGQj36CCnpKyzlKJZzG2m2hS9twolzZkb1ggvmnOtKHAI4GSY361wXScq5devcAjmzykAkO6RpUXkl869LIWJDOae5KO77AXg9gI8D+ASAPwJwv6Lv+TyouEczzVu3zmW+pL69qG1ewmNj7i+7L4/vUSznNtKcF7s/tMd+HId/aKsDisgqZ9cOSNFeC+nOzOSkOdru2LTpVf5zVb1AVV+sqi9S1Xeq6s/9j/0JWTh9efBg9j2+bVW25x065L72fBTsakPCpVyqTj8XmUxC1pW+BT1yNeMVRYAEFvoo7N0L3H038KEPDdMXxKq4RWSXiHzLdjQpJPFPF1/wtIOQDd+2qrznuS6zGQm72oCwlcvYWH2fjCInt5Bx7F0d7Oq8//F3RYClS83f0G1IUZ6NXFRB21AcwFTeYfteiINT5X7T3CUbUJL0dFjWdGJTNu6ydk7auIuxTYt2xcbto265mEzK2rh9/nb8+1XTnveuFD2j7tbEeTK3FWiqiMZt3AB+ARlR0gA8HcDDbd8LcVBx+01zVyNw2aKIxS9gSFvVzIyxadfJFx8OQ0Ot23kNb1tpDuHg5apAduyYa+2367z/Rb4Bec+oW8555dXVNi2U4l6aMxh/F4A3ZZy/O7r2vPrjfdIGXbXHrlqVvW94HFghJPGU6IYNC6fcytg5p6eHZ0vzRd5U5gc+0IpIQcrLVofTU70rVviv066/Xef9L7onZBuSV16bN9d7d/tGnnPaalVdZMtW1asArA4mEQlOV+2xtk0aQm7ekKSr6/CHQFc7i75pM/CQ62/Xef+L7gnZhuTZ5Uft3c1T3EfkXDsy5xrpOF2KapZ8GW1RkS67LMzvZTnUMDKZO2UcnLraWfRNWoFMTpqdvc4+O7wDl6vyqvP+54UdDdmGuDjejdS7a5tDh9lY5H9mnH8VgH+0fS/EQRv34jTXtc91IYBDkVNY3k5ZZX4jubaz67sq9aVul3Vw6qKNOzRdTnOd9z/+LjDvF+LyjDppttmwJyfbb8fyaMM5bSWALwP4HEy88ncAuBLAVwA82Pa9EAcV98I0d9UrvCxFji6x4q7qYOIaHattB5YkfanbVZyBuuRV3gR5eTTUNOdRJ81ltvTsUjvYeAAWVf2Rqv4KgLcA2B0db1HVp6jqD0OM/okbQ1mz6GLfFKlu487Kp6pykIVUsVmP1FQmRseu3wSuJpU+toNVcImcNqeq746O/9uEUCSfoTQILi+jqtlbt4pt0DU/hmZn9U2WLduXzXp2Fti1q1uBgHwxKnb9JsizrafpWztYBZfdwSohIpeIyI9F5NrEuRUicrmI3BD9fWCo3x8yK1Zkn+9bg+D6MlbtRbvkx5CXjPjA5hR01ln1HRzjZx88aHc46jNdcgLtO1mOd5OT2ff2rR2sQjDFDeADAM5MnTsPwBWqejKAK6LPpASzs8DPfrb4/Ph4/xqE+GUcGyu+t0ov2rYl4uRkP7Ya7QI2s8xll9VffjMUk4+NUVuiFJq0qeXCC0e3YxRMcavq5wHsS51+AYBt0f/bALww1O8PlU2bgHvuWXz+6KO72yAUrb/ctq145F2lF53VcF5yCXDbbdXtrGXiQQ+BPLNMXZv1UEw+eYyaXb9JRrljFHLEncVKVb0VAKK/D2r493uPrVHbl+4idQTX9Zd5I2+R6r3orIYzryNRNJoe+igxTUg7LW3A2YzSjE5dRrVjJMbrPNDDRVYD+LSqnhJ9vkNVj0lcv11VM+3cIrIBwAYAWLly5Zrt27ffd23//v2YmJgIJncXidO8a1f2dpfj48CppzYvVxFl5N23zyj2w4fN55NO2o+bb57Accf5a8zTvwGYBnJqyvxvuxb7FezcaX/2mjX15etK3d63D7jlluyyS+dJnd/Yswc44QRTzj6f3XXick7m8/g48IAHmC0p8+pgX/FRt9P5deKJ1fLF13OKqJPmtWvX7lTV0zIv2taJ+ThgQqNem/j8bQDHR/8fD+DbLs/hOu75NPdtDXfZXXuSa323bp3znq68tbUua5NDb2bQhbqdVcficvQZ5GJmxgTQiNfrT052tx77Zm5uLjefm4g10HQQprq7g01O+lm33WQb2vg67kBcCmB99P96AJ9s+Pd7T9/sOmWnQ5NTX6ee6j9deXZVF5vrKHgKZ5kDVOc3eykyN7gQm1D27p0/d/fdNQXvGbZ8zsK33b9PvhpZdSWmiplqCOaukMvBPgwTZe2RInKziLwKwNsAnCEiNwA4I/pMSlLWrtOmzaxrii6vI+HSyehbx6kKRR0YH43+EBrPupRRxr7t/n3K/6JASmU7NUNwigzpVf47qnq8qi5T1ZNU9f2quldV16nqydHfjrpUDQefPesqHYCuKbq8joRrJ6OKQ4wt79Lnu+BkWNSB8dHo97HxPOccYOlSU4+XLjWfy5As61273G2qy5b57+ja8nnPnu45xhXVibKdmkE4Rdrm0Lt00MZdPc2+bLJt2NZDlXOebS+E3c+Wdxs3Lj5/wQX+7fq+5I3lKuu3kEXSXhnbuGM7dxfZuDE7zRs3un0/nadbtszp+PjiTW+yjhB5YmsX0mXr8x333YaNso27daXscoya4s5SHlXT7KORVQ3vlJXFUMrZlnfxzkrJY8uWuU5sepLXgfFRF4oUdxd2r0uSVVZxGaoWy5vOs6RDXvy9POXtOx/acIyr+j7bNguq48zYVP2i4vaUGV3H1hvcsWOu0vN8KVxfHYAyDKWcXXc2ihv0kHnqAx8jlmSeJBW3SDdXTuSVmYu86TqQtWVt0W55vvMhrbzyOg0+qOtV3qWOnCtD8SonBdjsh7fcUu15vpzDBmEXaglbHtkCznQ9T334LdjSuGQJcO653XOcspXV2Jibzd/l/XGJ3e8zH9K+GnEsgzwZ22JUA63YoOLuGDZHjKxAGC74cg4L6R0+9EhRtrzbsGHx+SVL+rG0rG5DalNShw5lL/sB2nVc27DBft7XMsL0u2qjaj4UvWddWwFCcrANxbt0jNJUuW3KauvWubZFa9Rxq45dv4vY8i59vqpJpI/MzBgbcXKqPO9o2/a/ceO8rXtsbN4xrcgcFZdx0q/BJbiQ7blVnNVczQ8hp6SH9D67Qhu3p8zoOr5t3F0nr9EbcjnbGLU0i7gp7rZt3HnkKcU67/PMTLbX+fh4+bzIc5C0dSJ95/eo1W1V2rhHhni6LLnX7JFHtidPCJJTdnv2ZN/T5fW8XadPpgeb/XRysjtr/4vIM0fV8VmZngbuf//F5w8eLG/ntr1Phw6Z6f5zzrHHe4jrU7x+XaT79WroUHF3lGT4x717zYs0hBclHRDGRhccYvpI6FCWvjsFmzebZyVZvtzstdwnZ6SkzX/zZqNY8zqmrj4rtoA8ZTu2ee/TgQOmo5HVwTj33Pn6BBhFD5SvV7OzJuhMHzqTfYCKu4Nk9dIPH+5mOMKyFIUvBOgQUwfXqGZVFHCITsH0tBmh9mV0XYRrx3R83O15vlZzbN6c/5uxQk6zd6/9fXX1cI/z5ODBMJ3JUYSKu4N0MRykr5FWXhq63HD3ZfrZpe6UUcDJdK9fH2aZ1ooV/Rpd5+HaMT3xxIXnbPXLp6d3XkfCttytCJc2qU9x0fsCFXdL5CmCrq2Z9jnSsqVhaqq7DbeP9Deh+M85x944J/O9zKg8mW7bqCxkhzJEvpV5Ztl7bVPjMZOTpmOajFOeV798LefctAm4557sa7alicuXL/S1ySJZr2x55ToQ8VHWfelg18bmtdalY2he5UVLM7KutxnD2me40zJRsbpSznlRpVy8b5tIsy2WtksUL1uELJdIXj6WadnSHCKCWplnlr3XFhY1yyM8meYmwgnnRe/L8yq3hRt1abPi63H60qsHkunzUdZdjLjH5WCeMqMLuLyoXVrf6zvc6czMwljVtpjDXSnnopClRY1DmYa5aprzlEZ6IwxXeVxCtabTXmVJkS3NeUuYqi5ZKlMWPu61fT+Z5ibCCdfpHGStQy8Tvz5WqEnFna43PjovbeynUAQVt6fM6AJVXtQ20+z7hXDtGXelnF0a5by8KFPeVdNcVrm65H9RurN2Vqsy4rGluUrHoYgyZeHjXtv3mx5xhx6NFuXVzIwJOmPrcPnovLSxn0IRXMfdI4rsLF2zYRfhOxRi35xVXGJI59l5myjvPOeidN662k03b7aH3pyaWuyP4LtcXfKn7PPLlIWPe12+30So0awyX79+ftlaXXtwUV5NTwOnnmr3Y/HxjvStXa2FTaN36ejTiNulZ1ul99t2mn1GVXLtGbed5iTJ6cKyo6O2bdx1Rh0bN7rv0Vx1xFPGxl03bW3buONIZek0N737le8RuMvz8up2KBs3UG/7z7pwqtxTZoTGddqr7ItaZy/brm2H55pHXSznvH2M8/LXtRzqpDlPedeZdnWVveqUb1GDHv+2TTGWTVuZd6LsvUcdla+44zjjbdftENPzRXlVlGbXeP5FZZD0n/HRKakDFbenzAhNKDtLlTR30cvSRa74Rd2yZa4znY0kydG362jUlbp1u80y923j9vX8NihqB9puw9qwBzfVhnXJSY027p7QJTtLV23JeTbW5JpWoDtRlpJ+C5s2Gfvj1JRpEpK0nb/T08Z2Gdu8x8bM5ybWxvtac9zW831ie99XrDD1aOfOdtcZd6mdSpL2D7Ltzb5+vT3vuhjAyjs2jd6lo08j7lCjgipp7qKXZRHJ3nJy+UibSzpsZWqbDq2Tv30ecefJVGcKtY9k+QaMj8/v9hXX7aa31kz+RtP1xGWq3MWnoUhejrhJabo0KuhqrzqPur3lEJGTbDMXNk/uMvmblte2qYQrXZtlqRt1ro+RsGZngW3bFs/GHDy4OHpZumxCbxIT08VdCF3CxSax1esmvPRbx6bRu3T0acQdiiHZuNPYHJDKjrhDpTdvjW6d38uSt26EPF+zLHVHfWW88JuMnNYELuv+s/YgX7LELb/Kkuf0lZW/GzeGGfEnyzlLpjJr4YvqdfL5k5PmaMNBl85pnjKjr3TFqzzE82zTY3nTiVmEmiIrigpVNT+ynhs75IWQ1ZW6CtNlyjPZ4JaNnNam2cQFFwWUpbirKKg06fq4cWNxKNKs3wrRWYrL2bbEMMsbHDDnq64oaLvzR8XtKTP6ShfSHOIlyAtrWdarPJRNv8mR/JYtc7Xk9SFrXYVZNtJc2chpXfbRUK0+4nbNLxt5SxWzlGGZ368TZjZmbm4ud2Q9OWmXP0t5x3Hfq5RFU50/2rhJ64Swn9ps14cPA2vWlNstLJRNP5TfQgh5fcha18+g6D5Xe2MffTQAt0h7ZXDNr6z3UzX73r17y8lw6JB5Vl2b+6ZNdpn27Zuvu4Cpv/G9e/cu3p3O9pwkQ/Uwp+ImzoR4CXw2ziGdUqan/e8ZnSXvkiX15a0ra90yybuvTEeiK05Grg5y8X1nn20cvWzhYsswNuaeXz6UkYvMdTrrRaGB47qbtdQyzT33FMvR185fEVTcI0YdL90QL4HPxrlLHv0uZMk7NdW+vHXLxPb9mZlyHYkulKerl3f6vr17gWXLzFGV5cuNd3oyvXnvr+09LNOBeM1r3GYLqnYS8mRM1i9fsztd6fx5xzaH3qWDNm4/aQ7hdOTDC9Xm4MVybg9fXuUu3+9KmlUXy22zBadtpDZb6uTkYmexZFTAdevmbbdLlpiQqbY8s9mw421bXd5PFzt6iDCzqvM27vHxxc9z3Xq2SI6sepflsNdUGGg6p3nKjL7iI82+PI5dvVbLPCfrfpbzaNCVNJcJAJJ2kCvrSFclzXle4K5xvV2eUZQnVR0zY8UdB6GJj2XL3Dop6aPK5k1Ne5lTcXvKjL7iI80hvHSrdAZcXx6W82jQVJqrKrU6I27biLBKHP68EbNr57to1G77jo8R6tzcXKn2ouxI2eXZTXuZU3F7yoy+0pURd5oqnQFXOVjOo0ETaXbpLLoGALGFKbU9P2tTmrIxClTzOxZltzZtaqo4ydzcXNAlfi7PbnqJIZeDkdrYlqns3199eUcVh7UuLdHoY0jNsoxCGmNsaXVZymirs5OTxQ5yNkc6YOGmOar5MuSxebPd0ayMg2iIFRKuhPTydnn2ULzMqbgHTLoR+9KXsuMR79272FPWtbGv4rXZlZenqbjQbdKFNLrUJR+di7y0unQWbXX5wgsXK7q0vOecYxTwnj3m3J495nPW7lZp4u+4pNvm8V2n812HsuVWpb3w2RYNxsvcNhTv0sGp8vJpLrvTTnKquqz3eNmpt67YuNuOqpSF7zS3nUaXst6xY65wmtmlbuWltawNOu/3qrxb6cMWOc02dV7FWasqrnle1tErrttlyrTsb7iWH73KqbgboWyayzjapO08TcQw7oJXeZGzTxubWfhOsw+bnssSG1teuSjMrVuzlVhWCMy8OpeXVp/exFXeLVfFbetUVV0eVRYXW33ZpXIxPj3p2+xcl4GK21Nm9JWyaa6y0078MpT5bsgXqK0Rt4+OSVW6NuLOasiXLVu8FteWVy4dB19xu4vSWmVmKOv+Ku9WGcWd1alyfW7cSak6osxbj15mliGLeDlYGdn6Gq8+hs5pJBOb/aesvThp5ynz3T7H/C2KKX3ggAlf2Wenrro2vSynrnvuMXtLJ7E5Wa1Ykf3c5PnxcTdZYmx1riitZZyy8uzlZd+tyUn73u1ZpJ8/O+se/WzFCrvcybbi2GPNka7btrzdu9d9r2yR7Hdl377y/hau/jBZPgeDdsi0afQuHRxxZ6e5aFrLZWvFeERSFKTA1vPt84hbdeFSnaKjiRF4iDRXGYGVyZe8UVDeVo0xNht32anYqmnNIu+3y9i4be/jli1zOj6+OBhJso6VLYOirTHzZC7a6rPskVVGNpNI3ZgPWduEZtXNvLXqoeBUuafM6CtZaXaZGrSFLBwbK3YK8REhzfY8l+/llbNvB5OmbIhF+AptWydvqjpfZeWNy1SnbQq16ShXyfTnKYD4nqzgIPG7lVTyyefG39m6dS7XV8C1DNLbbdaZxrd1SvI6BEX5lMRmHiia9s6rz2XSbIsOF5JBKW4AuwHsAnBNnnDxQcWdnWaXRtFn41dVIVSVwVbOIRr0vMa6TCNTl7p120feFHViyti4XWzsTXbQXMhLv6+OWzrNro5fRfWxzojZ1inJ60SVmRWpMuIuomx6m3ZqG6LiPtb1firuaiPumOQUmG00EJKyDlKxvLawkLbnxaOPyUlzlG3sXRrLro+4q0wvp3Hxtve5ZMhmBsp7fkiFnpd+X7+TTHOd5WVZ73rVEXNRHak7K5K37K8qZWcYmnZqo+L2lBl9payNu869vinjGZqU0xYWsuzL6prOogY0azME39Sp2xs35ueDK76X4BQp2azRZ15dDV2X8zyrfZFMc9VRct677qJg00dVG7BrJ6qKV3kRHHE3eAD4HoCrAewEsKHofiru/GljX+tpQ1Hmt5P3Jm1iyXurNHRllj/Znj8+3l3FXWTrK2Pfy3L2aXIHpaL6ErouN9HJTabZtSM6Pr54JqmMInRxPgs5ExfCJGJzpH30o5utwzZCKW4x15tFRE5Q1R+IyIMAXA7gdar6+dQ9GwBsAICVK1eu2b59+33X9u/fj4mJiSZFbp0qad63D7jllsVLd9KsWVNDMEc59uwxy3Biliwx8ZzTy4V27pz//6ST9uPmm+fTHMuZ9TwXyqRz167sfBsfB049tdzvlqFq3bbJm8RFdlveHndc/ZC0yfo4Pg6ceKIp/3Sak3UgzZo1xdd9YJPVF8k028pu6VLznthkKPNeJcnLP9dnJGVwzSdb3a6ajiIZQpehC3V01dq1a3eq6mmZF20avakDwPkA/jjvHo64w4U8rWLXqoLrc5Je8MkR99iY/Xk2z/k6o7G2Aj9UCQuZJ29Z2UONZvNGsW2NuNtwfIvZsWPuvt+enMzeozrPTyNvxUhRPrjMWCVXpuR5dFcJeeoqT9PT2iEYzFQ5gKMAHJ34/8sAzsz7DhV3mJCnRVNHbdjFk7+VXj6S14i5rFEtQ1uNSWwHLJvvZRrjPEJ1WPLysw0bd5s+HzMzqhdcsLBuJ6fBJyfzvfaL6rvL8iqXGA8zM9kdiliOsu+IrQ3re3S0PIakuB8G4JvRcR2ATUXfoeL2G/LUdYTRhvKy2biLGtjkyKCqV3n6eS4Nu+9R29zcXKV899V5qVPmeXmR1zi34VXuw/u+KvGKCdtvF5VBkYd4mbLKe0ZR8JyyCpcj7nJ0SnFXOai4/Y24fSwLCtkTzvIqb+uldlEevkdtc3NzlfPdR+elapqKvldmxF2GKgp8ZsausJoY5Ylk1+34t4s2S8lT2j5nHoo6B1U3GUmXWd3gTl2GittTZvQVHzZuX4E4QivN+MUuuxFD04TIn6ojbldcFF0VZVgkcxkbd5m0VKnjRSNNX8zMLFRuk5Pz56qOuPNkL4qGGMuUtVQsq7zzFDdQLhCPar4ZyLZlcN+h4vaUGV0mr8Gskua604lt2gFVwyuxuoSYkahq43YhxHOLplzTUfyy6mPV97lq3WgiwEqWfRhQXbrUKNi04k7ajvNsy3myxx2DPJnKlP+SJcXKe3LSvY3p+vscAipuT5nRVYpeqrbS3KbnbUgl5oNQI27VMPlukzcd7zqP9HR8esRVJS+q1u2qfhy2fPAZYKXIWTCtuJO/PTOzOF/jGAJFz81a610kk62MipR2smPmUl/n5uYKnzM0qLg9ZUZXKXqphpjmIkIqMR/PDWXjDoXLkrE8+V28kavkhe8Rd5EMTXQGi/I6a6q8KF1xHa1aBmVniFxXKrjm544ddv+N+DlDmy6n4vaUGV2l6KVqMs1deYFCprloqUuZ5/j2Kg+FS0OcNwJz/X6yIVYtzqOqoTBdlVhWekLX8bIj7mScgqK2wGXknZX+siPuovwVWbgrWtFzbZuMxM/p6sxaHai4PWVGV+nKiNvnaKRu4xgyzXlLXUI06q7PDN1ZcVF0thFYmRjxScenovpUZ/OJZL6WTY9Psjyls2zcNsUNzD/LVRG6Ku+kwi+bz8l0TUwsfrbLenIXZ9Oh2r6puD1lRlfpio3b1wvkowMQMs15DV0IB66seMpJBRcTIs1pu3RsAy0beavMKC/ON5cOkq1BL1vn2lwFYfOUTnuVx5/TaU7K6BorvsyMQ3KUXnWHQFv+Fk1/Fy3vjOtjnvLvK1TcnjKjScqO3Hx7lVfB1wvkoxH1leasfC2jgOLGpeoovEjhheyg5XWgynauytpXi47YAcvWoJetc205MhbV9ZmZxR2YZJqLoqKJqK5bl13/0p2yrFH+xMTi81WWYJWZcYnNTsm8sZVzHN61bntRhqbMgVTcnjKjKXzvsOQjzS6V1deoxUcHwDXNeemyNYRHHFFN2VQpS5cGL5RJxEWpVO1c+lLgeSOxKnbvpv0zipZoZc1sxGl29fx2bUuyOgm2o2z7VGbGJSu6Wt5U+eRkc52uJjt4VNyeMqMJZmbyp4+qUDfNrpXVV6VuasRdJG9eY7N0qXtDVCctrg2ea5rLEHIKsuzUue3IatDLBvdokyr5sGXLXGb9KetH4EselzpdZsYlrl8uI+74/qY6XU2aVEIp7iWV9hsjuWzaZKpCFjfd1KwsMZs2AQcOLDx34IA5n2R6Grj4YrOlnoj5e/HF5nwZNm8Gli9feG75cnPeJ0XpysvvBzxgYTrL4lqWWXmRRgSYnS0vQxG2rTjrbtEJuKWrClNTwP3vv3iry6z6mmZ2Fli92mwLuXp1mDxNUzUfsupPmXKx1b86bUzed7PahsnJ7HvjdLi+76tWmefv3m2299y9u3yb40qIfGsaKu4A5FUAHw1mFcpUVh8vkK8OQBFF6crL7337FqazrPJ2LctkXthQLVZKVQjZgUqX8eSkvSF3ZWbGlMW+fdnX896t2Vlgwwazt7Oq+bthQ3jl7VK+WWTVn6zyEnH/ft75Os+MSbcNF16YX7+mp4vrRHx/U52ukJ3ZxrANxbt09G2qPM9OlTU13cQyoT4ut3BJs4sN19VsUWYqsM60bd5zt26d8z5F2LTdt6wTWzyFmoweVqW+dqGOu05Tv+Md9nJOl9e6dcX2aBcntaOOCrOxR5HHelwfklPl6VUVtjpTFMa1CrRxN3T0TXHbHKI2biy+z1aBmrJxdwkfNm7Vco6C6QYwK6Rn3cYkr3HfsmWu8+XiQpkgIVlprlJfi3bV8tF5KXpOltzLlhmlmaw/O3bMOf9eUVuSdU+W/0Y6wFDakS2rXrvmW1F5zcwsDsAyNjafjry6EuJ9oFc5FXcmGzfO9z6TFTRJmRFCaK/yNrxxi8hKc5acLrJXTV+IfMkbkSa9jX3/ftW8q0Oes1UcI902y1BWtrzG38cKjzIOnkVyu77PLm1EFW9vl/SU6Ty5yLlt21zmPVkda5c2sQ9QcXvKjCZwrfBlPH6bjqjVhVFfOs1dlbMKthFprLjjUaJrequMBMfHs9f3+szPImWq6ne9fpkp+rLKwOdUvGuaXdqIskvzXNNTJr0uctq8ysfGijsffQ3EQq/yHuHqwd0VJwlXedumL3K6MD1tHHLynIRc0+vilJX1rIMHgXvuKX5+HfLSuGKFv98ByjuJlfUibsMb2aWNqNpeFKWnTHrrtGWHDhV75vfKcawBqLgD4Frhm1oyVURflkc0KWcTHq62ZYMipg64ptdFwZfJI5/5OT0NvOY12dfuvNN/vsZez7bOQpKyyqCNjrZLG1FmOVrSw7soPWXSW6ctGxub73RleaC30SZ2HSruALhW+KaWTBXRlZF/mn37FipP2wjNt5y+lhUVKX+bglQ1dcC1XIoU/OyskcEV3/n53vdmN8gHD4abLSlKQxVl0EZH26WNyLpn40ZgfHzhs8bHzfItwNSJ/fsX/14yPWXS6yLnccdlp3HDhvln3HabWRLYdpvYeWxz6F06hmrjLkMfbdx1HJ9mZlQvuGChTWzZssXhI6tsxVmED1umS57abNxJxzSXcrHJG3sJ2+y+Tdi4Y/JsoKE2VnHd2KXsc3048zXRhtlkLbP0yqfz4tzcnJPT7pCgc5qnzGgK3966odPsW966nYGpqfwQiUnl05QndBkHmTxlGpOVRxdcsNDD2tVjPmvd7vi4PW712Jj5XlMNaV5nKFTdbnqlRJnfs6U5tMwzM+V3hfNF2XLu4kqXslBxe8qMvtK3NNcdtYq4Ke4QDY6PEXeep++6dfON55IlCwNjuK7vTeO6sUSyE9KVoBd9q9tZlO2oZqXZ98ZELjJW7ZhWoUw5+1xR0Sb0Kie9Ys+ecufT+IjZXBVb2MmzznJ3WsuT/4orjCctYEJH3nWXceDavbu6p7UtRKgNm9c6AOzd6z9UaFf8OUJRZsXD7Cywa9fCOjQ7C1x0kVFR6Wece244GZO07dOSxOeKijzaiG3vBZtG79LBEXf/0pw32nMhy8bte8e1PLJGP2V2rJqZKTcCHhsz3ysqZ9voIm9q3jaqrjuT0Sd7rw1faXA1r8QjyfR+3EXl4WMUmTcL1EQ8hDLl7JqfdWbHmogLwalyT5nRV/qW5qqKO9mQvutdczo5GSa+chFlolHF9uI0ZaevVU05l3EqitNfdC1LlqLAHXlTpz4bvbbqts80uCqQ+D5XM1AZRVRVRlv99U2ZcnbNzzr+KD4D6tig4vaUGX2lb2m2OcDEI8ss0g2pLYZ1E/asstGoXPc2L1KU73rXnNXTO68zEXdsbHlj+25eOvMasDaiiPnGZxrKRkssq7h92J/bjjyY1ymtKmudMgy5V30MFbenzGiaIUwnVmHjxuyXYt06d+WSjNvdtANKmRF3XmORlnvduvxn2Br0+BllOw8xed/NGo3X2dCjLG3Vbd8Nt0sdtY24bSaNOp2JPBmB7J28QrJjx1ypjkMyPycn5+tpUu46s3B1O24u5U3F7SkzmmQI04l1SC81WrcuPz/SDWnaDlglH6sq/Kyyy7JxV2nwk/niqrhj+Ys6D8nlZkmKGqmy+cQRdzVsNu48k4bvUXFbI+/07mCu+Z03c7V8ef5MU9nnlmlXXL5Lxe0pM5pkCI2bC66NflF+2EbcVded1m2gstKVtw42rTRd8iWvs5JOq+vUu81Zzmdj7eN5cf7EQWeaXsbTlgKbmTFKLG9DmJCzS210WFTzO6VV5PUhd9W8ds1DKm5PmdEkQ5hOLKJM41eUHzYbd9FLa3vpQjVQMzPZI+9kFLeqNrqsxi291WLVhsy3QqjzvGT+xGluY6e3ttYAt/k+N2HbzaLqiLuOE2UoXPOQittTZjTJKIy4y6TR5d7kNPKWLXP3TYPZXpI8xeijgbI17DaPcdvsgS1fsjorccSzPGVi8yFouiHzMWJJdlZCj/q6Qpvvc1sj7rI27iJ58+TuyqwFFbenzGiSUbBxl1GORflhG3FnOaC4rOmu00AV2RuL0l02X+JGZuvWucL6UTRl3pTyq1O/k/mTVNy+Ox1lvJibHHlXXa/vg7ZMBGW8yovkTbcDyWc1kT7auAesuFWH71VeVjnm5UcZr3KX0WbVF9hFMZa117sqVZdyzkt/k9PNdTpGTYy4Xcu/DUWWV85NKZ6mTQR12rAsb3jbjFtTMwr0Kh+w4vZFF9Jsc9bKGg1X2azC5qiVNQorMxVdtoEqmpqzxfnOmz1wbXxdyjnP5tekjbiOKaIJG7drHWlj6jivnNuayg6NzzYsL4/asuFnwVjlpFVsMYEBYP16E386RhXYtq183N8y+4K77hU8PW1igB8+bP66xMYuin2+alVx7O2Qsblt+TQ11Wzs7zr7uCfzBwgTu7xon/Ky9zVF1+TpInl5VKde9gUqbuJEXtD/yy4zyjrrWhlclTHQjmJMy1PUKajSaXDBNZ9Cb6BQpryyiPNnzRq/+RPj2oD7aOh95vUoKJ665OVR3XrZC2xD8S4dnCpvP815008+p6bKOmqFwGbjDrHdZRrXci4yATRlt/VhKw1Vt5uycVf5fts27jbwWc4upqo2lvmloY3bU2b0lbbTnGdTCmWTG8KuUWXxleY+2UlDlnNor/KZmWoBgtr0Km8L3+XchzwKpbiXtj3iJ/1g82Zj005Olyenn/Ku9ZHp6X7vFU07qcG1HKuUd+z3Ee+tnqZOXve9/jXBKOcRbdzEiTybckh7M6kG7aThyfL7SMK8JqHgiJs4k9fDHeXebxcpmiEh9ckbUTOvSUhaGXGLyJki8m0R+a6InNeGDKNIaC9j0g5Z5drFWZCh1T/biHpsrDivb7oJWLrUlM3YGDAxYf6Pz4XMny6VQ5dk6RONj7hFZAzAewCcAeBmAN8QkUtV9T+almWUiO1x8QgsuQ6bI+X+UlSuXSnbPDlPPLE9uepgm9UoUtrnnAM8/OHztvHDh4G77jL/x+dCvZ9dage6JEvfaGPE/UQA31XVG1X1IIDtAF7QghwjRd46bNJf+lKufZGzDFVnNS6+2O35IfKnS+XQJVn6hhiv8wZ/UOQlAM5U1f8RfT4bwJNU9fdT920AsAEAVq5cuWb79u33Xdu/fz8mJiaaE7oD1E3zzp32a2vWVH5sUFjOxfSlXPPkfOQjR6ucd+4ETjppP26+2S3NPsuxzfqSrtt9qbt1qNOGrV27dqeqnpZ50bZOLNQB4KUA/i7x+WwA7877Dtdx109zn9b1xrCci+lLuebJOWrlPDaWve96E+XYZn1Jl3Nf6m4dhhSr/GYAD0l8PgnAD1qQY6QYiTCAI0hfyrUvcjZBbMctIkT+dKkcuiRL32hDcX8DwMki8lARGQfw2wAubUGOkaKLXsakPn0p177I2QTvfS9w3HHGmxwwHtVHHWX+j8+Fyp8ulUOXZOkbjXuVq+q9IvL7AD4DYAzAJap6XdNyjCJd8jIm/uhLufZFziZYtQq49952frtL5dAlWfpEKwFYVPUyAJe18duEEEJIn2HIU0IIIaRHUHETQgghPYKKmxBCCOkRVNyEEEJIj6DiJoQQQnoEFTchhBDSI6i4CSGEkB5BxU0IIYT0CCpuQgghpEc0vq1nFUTkJwD2JE4dC+C2lsRpC6Z5NGCaRwOmeTSok+YpVT0u60IvFHcaEblKbfuUDhSmeTRgmkcDpnk0CJVmTpUTQgghPYKKmxBCCOkRfVXcF7ctQAswzaMB0zwaMM2jQZA099LGTQghhIwqfR1xE0IIISNJ7xS3iLxORL4tIteJyNsT598oIt+Nrv1qmzKGQET+WERURI5NnBtkmkXkr0TkP0XkWyLyCRE5JnFtkGkGABE5M0rXd0XkvLblCYGIPERE5kTk+ugdPjc6v0JELheRG6K/D2xbVt+IyJiI/LuIfDr6POg0i8gxIvKx6F2+XkSeMgJp/qOoXl8rIh8WkSNCpLlXiltE1gJ4AYDHqupjAGyJzj8awG8DeAyAMwG8V0TGWhPUMyLyEABnALgpcW7Iab4cwCmq+lgA3wHwRmDYaY7S8R4AzwXwaAC/E6V3aNwL4A2q+igATwbw2iid5wG4QlVPBnBF9HlonAvg+sTnoaf5QgD/qqq/COBxMGkfbJpF5EQAfwDgNFU9BcAYTHvlPc29UtwANgJ4m6r+HABU9cfR+RcA2K6qP1fV7wH4LoAntiRjCN4J4E8BJB0SBptmVf2sqt4bffwqgJOi/webZph0fFdVb1TVgwC2w6R3UKjqrap6dfT/nTCN+Ykwad0W3bYNwAtbETAQInISgF8D8HeJ04NNs4jcH8AzALwfAFT1oKregQGnOWIpgCNFZCmA5QB+gABp7pvifgSAp4vI10TkShH55ej8iQC+n7jv5uhc7xGR5wO4RVW/mbo02DSn+D0A/xL9P+Q0DzltmYjIagBPAPA1ACtV9VbAKHcAD2pRtBC8C6bzfThxbshpfhiAnwD4+8g88HcichQGnGZVvQVmFvgmALcC+KmqfhYB0ry07gN8IyL/BuDBGZc2wcj7QJgptl8G8BEReRgAybi/N+7yBWl+E4DnZH0t49wg0qyqn4zu2QQztTobfy3j/t6kuYAhp20RIjIBYAeAP1TVn4lkJX8YiMivA/ixqu4UkdNbFqcplgL4JQCvU9WviciFGNC0eBaR7foFAB4K4A4AHxWRl4f4rc4pblV9tu2aiGwE8HE1a9i+LiKHYWLB3gzgIYlbT4KZougFtjSLyKkwleCbUcN2EoCrReSJGGiaY0RkPYBfB7BO59cs9jrNBQw5bQsQkWUwSntWVT8enf6RiByvqreKyPEAfmx/Qu94KoDni8hZAI4AcH8RmcGw03wzgJtV9WvR54/BKO4hp/nZAL6nqj8BABH5OIBfQYA0922q/J8APAsAROQRAMZhArhfCuC3ReR+IvJQACcD+HpbQvpCVXep6oNUdbWqroZ5GX5JVX+IgaYZMN7VAP4XgOer6oHEpcGmGcA3AJwsIg8VkXEYp5ZLW5bJO2J6oO8HcL2qXpC4dCmA9dH/6wF8smnZQqGqb1TVk6J3+LcB/F9VfTmGneYfAvi+iDwyOrUOwH9gwGmGmSJ/sogsj+r5OhgfDu9p7tyIu4BLAFwiItcCOAhgfTQau05EPgJTMe4F8FpVPdSinMFR1SGn+a8B3A/A5dFMw1dV9TVDTrOq3isivw/gMzDeqJeo6nUtixWCpwI4G8AuEbkmOvcmAG+DMX29CqYBfGk74jXK0NP8OgCzUUf0RgCvhBksDjLNkUngYwCuhmmf/h0mctoEPKeZkdMIIYSQHtG3qXJCCCFkpKHiJoQQQnoEFTchhBDSI6i4CSGEkB5BxU0IIYT0CCpuQgaGiOwvce/pIvIric+vEZHfjf5/hYicUOH3d0tiFztCiF/6to6bEOKX0wHsB/BlAFDVixLXXgHgWgw0ghshfYWKm5ARQESeB+DPYKIN7gUwDeBIAK8BcCiKqfw6mGhP+wHsBnAaTACNuwE8BSYK1GmqepuInAZgi6qeLiKTAD4M4DiYSHaS+N2Xw2x1OA6zmcg5QwmaQ0hbcKqckNHgiwCerKpPgNky9E9VdTeAiwC8U1Ufr6pfiG9W1Y8BuArAdHTt7pxn/zmAL0bPvhTAKgAQkUcB+C0AT1XVxwM4BNNhIITUgCNuQkaDkwD8Y7TJwTiA73l89jMAvBgAVPWfReT26Pw6AGsAfCMKXXskhrWpBCGtQMVNyGjwbgAXqOql0daS51d4xr2Yn6U7InUtK3ayANimqm+s8FuEEAucKidkNHgAgFui/9cnzt8J4GjLd9LXdsOMoAHgNxLnP49oClxEngvggdH5KwC8REQeFF1bISJTFeUnhERQcRMyPJaLyM2J4/UwI+yPisgXYLbCjfkUgBeJyDUi8vTUcz4A4KLo2pEA3gLgwugZSQeztwB4hohcDeA5MDsgQVX/A8Yh7rMi8i0AlwM43ndiCRk1uDsYIYQQ0iM44iaEEEJ6BBU3IYQQ0iOouAkhhJAeQcVNCCGE9AgqbkIIIaRHUHETQgghPYKKmxBCCOkRVNyEEEJIj/h/GsvnBGbo1RQAAAAASUVORK5CYII=\n",
      "text/plain": [
       "<Figure size 576x432 with 1 Axes>"
      ]
     },
     "metadata": {
      "needs_background": "light"
     },
     "output_type": "display_data"
    }
   ],
   "source": [
    "latitude = CityWeatherDF[\"Lat\"]\n",
    "wind_speed = CityWeatherDF[\"Wind Speed\"]\n",
    "\n",
    "\n",
    "plt.figure(figsize=(8,6))\n",
    " \n",
    "plt.scatter(latitude, wind_speed, linewidths=1, marker=\"o\", color = \"blue\")\n",
    " \n",
    "plt.title(\"City Latitude vs. Wind Speed (%s)\" % time.strftime(\"%x\"))\n",
    "plt.xlabel(\"Latitude\")\n",
    "plt.ylabel(\"Cloudiness (mph)\")\n",
    "plt.grid(True)\n",
    "\n",
    "plt.savefig(\"../Images/lat_WSpeed.png\")\n",
    "\n",
    "plt.show()"
   ]
  },
  {
   "cell_type": "markdown",
   "metadata": {},
   "source": [
    "## Linear Regression"
   ]
  },
  {
   "cell_type": "code",
   "execution_count": 16,
   "metadata": {},
   "outputs": [],
   "source": [
    "Northern_DF = CityWeatherDF.loc[CityWeatherDF[\"Lat\"] >= 0]\n",
    "Southern_DF = CityWeatherDF.loc[CityWeatherDF[\"Lat\"] < 0]\n"
   ]
  },
  {
   "cell_type": "code",
   "execution_count": 17,
   "metadata": {},
   "outputs": [],
   "source": [
    "def plot_linear_regression(x_values,y_values,title,text_coordinates):\n",
    "    \n",
    "    # Run regression on Southern Hemisphere\n",
    "    (slope, intercept, rvalue, pvalue, stderr) = linregress (x_values,y_values)\n",
    "    regress_values = x_values * slope + intercept\n",
    "    line_eq = \"y = \" + str(round(slope,2)) + \" x + \" + str(round(intercept,2))\n",
    "    \n",
    "    # Plot\n",
    "    plt.scatter(x_values,y_values)\n",
    "    plt.plot(x_values, regress_values, \"r-\")\n",
    "    plt.annotate(line_eq,text_coordinates, fontsize=15, color=\"red\")\n",
    "    plt.xlabel(\"Latitude\")\n",
    "    plt.ylabel(\"Title\")\n",
    "    print(f\"The r-squared is: {rvalue}\")"
   ]
  },
  {
   "cell_type": "markdown",
   "metadata": {},
   "source": [
    "####  Northern Hemisphere - Max Temp vs. Latitude Linear Regression"
   ]
  },
  {
   "cell_type": "code",
   "execution_count": 26,
   "metadata": {},
   "outputs": [
    {
     "name": "stdout",
     "output_type": "stream",
     "text": [
      "The r-squared is: -0.6777645841630203\n"
     ]
    },
    {
     "data": {
      "image/png": "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\n",
      "text/plain": [
       "<Figure size 432x288 with 1 Axes>"
      ]
     },
     "metadata": {
      "needs_background": "light"
     },
     "output_type": "display_data"
    }
   ],
   "source": [
    "x_values = Northern_DF [\"Lat\"]\n",
    "y_values = Northern_DF [\"Max Temp\"]\n",
    "plot_linear_regression(x_values,y_values, 'Max Temp', (10,40))"
   ]
  },
  {
   "cell_type": "markdown",
   "metadata": {},
   "source": [
    "####  Southern Hemisphere - Max Temp vs. Latitude Linear Regression"
   ]
  },
  {
   "cell_type": "code",
   "execution_count": 27,
   "metadata": {},
   "outputs": [
    {
     "name": "stdout",
     "output_type": "stream",
     "text": [
      "The r-squared is: 0.7639983051434317\n"
     ]
    },
    {
     "data": {
      "image/png": "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\n",
      "text/plain": [
       "<Figure size 432x288 with 1 Axes>"
      ]
     },
     "metadata": {
      "needs_background": "light"
     },
     "output_type": "display_data"
    }
   ],
   "source": [
    "x_values = Southern_DF [\"Lat\"]\n",
    "y_values = Southern_DF [\"Max Temp\"]\n",
    "plot_linear_regression(x_values,y_values, 'Max Temp', (-50,80))"
   ]
  },
  {
   "cell_type": "markdown",
   "metadata": {},
   "source": [
    "####  Northern Hemisphere - Humidity (%) vs. Latitude Linear Regression"
   ]
  },
  {
   "cell_type": "code",
   "execution_count": 31,
   "metadata": {},
   "outputs": [
    {
     "name": "stdout",
     "output_type": "stream",
     "text": [
      "The r-squared is: -0.01709889998932582\n"
     ]
    },
    {
     "data": {
      "image/png": "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\n",
      "text/plain": [
       "<Figure size 432x288 with 1 Axes>"
      ]
     },
     "metadata": {
      "needs_background": "light"
     },
     "output_type": "display_data"
    }
   ],
   "source": [
    "x_values = Northern_DF [\"Lat\"]\n",
    "y_values = Northern_DF [\"Humidity\"]\n",
    "plot_linear_regression(x_values,y_values, 'Humidity', (40,5))"
   ]
  },
  {
   "cell_type": "markdown",
   "metadata": {},
   "source": [
    "####  Southern Hemisphere - Humidity (%) vs. Latitude Linear Regression"
   ]
  },
  {
   "cell_type": "code",
   "execution_count": 33,
   "metadata": {},
   "outputs": [
    {
     "name": "stdout",
     "output_type": "stream",
     "text": [
      "The r-squared is: -0.11381517278488808\n"
     ]
    },
    {
     "data": {
      "image/png": "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\n",
      "text/plain": [
       "<Figure size 432x288 with 1 Axes>"
      ]
     },
     "metadata": {
      "needs_background": "light"
     },
     "output_type": "display_data"
    }
   ],
   "source": [
    "x_values = Southern_DF [\"Lat\"]\n",
    "y_values = Southern_DF [\"Humidity\"]\n",
    "plot_linear_regression(x_values,y_values, 'Humidity', (-55,20))"
   ]
  },
  {
   "cell_type": "markdown",
   "metadata": {},
   "source": [
    "####  Northern Hemisphere - Cloudiness (%) vs. Latitude Linear Regression"
   ]
  },
  {
   "cell_type": "code",
   "execution_count": 35,
   "metadata": {},
   "outputs": [
    {
     "name": "stdout",
     "output_type": "stream",
     "text": [
      "The r-squared is: 0.01017026653878559\n"
     ]
    },
    {
     "data": {
      "image/png": "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\n",
      "text/plain": [
       "<Figure size 432x288 with 1 Axes>"
      ]
     },
     "metadata": {
      "needs_background": "light"
     },
     "output_type": "display_data"
    }
   ],
   "source": [
    "x_values = Northern_DF [\"Lat\"]\n",
    "y_values = Northern_DF [\"Cloudiness\"]\n",
    "plot_linear_regression(x_values,y_values, 'Cloudiness', (8,45))"
   ]
  },
  {
   "cell_type": "markdown",
   "metadata": {},
   "source": [
    "####  Southern Hemisphere - Cloudiness (%) vs. Latitude Linear Regression"
   ]
  },
  {
   "cell_type": "code",
   "execution_count": 37,
   "metadata": {},
   "outputs": [
    {
     "name": "stdout",
     "output_type": "stream",
     "text": [
      "The r-squared is: -0.09035387480521513\n"
     ]
    },
    {
     "data": {
      "image/png": "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\n",
      "text/plain": [
       "<Figure size 432x288 with 1 Axes>"
      ]
     },
     "metadata": {
      "needs_background": "light"
     },
     "output_type": "display_data"
    }
   ],
   "source": [
    "x_values = Southern_DF [\"Lat\"]\n",
    "y_values = Southern_DF [\"Cloudiness\"]\n",
    "plot_linear_regression(x_values,y_values, 'Cloudiness', (-50,80))"
   ]
  },
  {
   "cell_type": "markdown",
   "metadata": {},
   "source": [
    "####  Northern Hemisphere - Wind Speed (mph) vs. Latitude Linear Regression"
   ]
  },
  {
   "cell_type": "code",
   "execution_count": 38,
   "metadata": {},
   "outputs": [
    {
     "name": "stdout",
     "output_type": "stream",
     "text": [
      "The r-squared is: 0.05088891245509902\n"
     ]
    },
    {
     "data": {
      "image/png": "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\n",
      "text/plain": [
       "<Figure size 432x288 with 1 Axes>"
      ]
     },
     "metadata": {
      "needs_background": "light"
     },
     "output_type": "display_data"
    }
   ],
   "source": [
    "x_values = Northern_DF [\"Lat\"]\n",
    "y_values = Northern_DF [\"Wind Speed\"]\n",
    "plot_linear_regression(x_values,y_values, 'Max Temp', (40,27))"
   ]
  },
  {
   "cell_type": "markdown",
   "metadata": {},
   "source": [
    "####  Southern Hemisphere - Wind Speed (mph) vs. Latitude Linear Regression"
   ]
  },
  {
   "cell_type": "code",
   "execution_count": 39,
   "metadata": {},
   "outputs": [
    {
     "name": "stdout",
     "output_type": "stream",
     "text": [
      "The r-squared is: -0.14678103233525922\n"
     ]
    },
    {
     "data": {
      "image/png": "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\n",
      "text/plain": [
       "<Figure size 432x288 with 1 Axes>"
      ]
     },
     "metadata": {
      "needs_background": "light"
     },
     "output_type": "display_data"
    }
   ],
   "source": [
    "x_values = Southern_DF [\"Lat\"]\n",
    "y_values = Southern_DF [\"Wind Speed\"]\n",
    "plot_linear_regression(x_values,y_values, 'Wind Speed', (-50,22))"
   ]
  },
  {
   "cell_type": "code",
   "execution_count": null,
   "metadata": {},
   "outputs": [],
   "source": []
  }
 ],
 "metadata": {
  "anaconda-cloud": {},
  "kernel_info": {
   "name": "python3"
  },
  "kernelspec": {
   "display_name": "Python 3 (ipykernel)",
   "language": "python",
   "name": "python3"
  },
  "language_info": {
   "codemirror_mode": {
    "name": "ipython",
    "version": 3
   },
   "file_extension": ".py",
   "mimetype": "text/x-python",
   "name": "python",
   "nbconvert_exporter": "python",
   "pygments_lexer": "ipython3",
   "version": "3.9.12"
  },
  "latex_envs": {
   "LaTeX_envs_menu_present": true,
   "autoclose": false,
   "autocomplete": true,
   "bibliofile": "biblio.bib",
   "cite_by": "apalike",
   "current_citInitial": 1,
   "eqLabelWithNumbers": true,
   "eqNumInitial": 1,
   "hotkeys": {
    "equation": "Ctrl-E",
    "itemize": "Ctrl-I"
   },
   "labels_anchors": false,
   "latex_user_defs": false,
   "report_style_numbering": false,
   "user_envs_cfg": false
  },
  "nteract": {
   "version": "0.12.3"
  }
 },
 "nbformat": 4,
 "nbformat_minor": 2
}
=======
import pandas as pd
>>>>>>> 38c3e7d9c64b48dbff876dcbee3d0bf30f9bb09f
